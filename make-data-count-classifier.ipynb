{
 "cells": [
  {
   "cell_type": "code",
   "execution_count": 281,
   "metadata": {
    "_cell_guid": "b1076dfc-b9ad-4769-8c92-a6c4dae69d19",
    "_uuid": "8f2839f25d086af736a60e9eeb907d3b93b6e0e5",
    "execution": {
     "iopub.execute_input": "2025-06-18T16:21:59.635631Z",
     "iopub.status.busy": "2025-06-18T16:21:59.635309Z",
     "iopub.status.idle": "2025-06-18T16:21:59.641057Z",
     "shell.execute_reply": "2025-06-18T16:21:59.640228Z",
     "shell.execute_reply.started": "2025-06-18T16:21:59.635606Z"
    },
    "trusted": true
   },
   "outputs": [],
   "source": [
    "# This Python 3 environment comes with many helpful analytics libraries installed\n",
    "# It is defined by the kaggle/python Docker image: https://github.com/kaggle/docker-python\n",
    "# For example, here's several helpful packages to load\n",
    "\n",
    "#%pip install pandas\n",
    "\n",
    "from typing import List, Optional\n",
    "\n",
    "import numpy as np # linear algebra\n",
    "import pandas as pd # data processing, CSV file I/O (e.g. pd.read_csv)\n",
    "\n",
    "# Input data files are available in the read-only \"../input/\" directory\n",
    "# For example, running this (by clicking run or pressing Shift+Enter) will list all files under the input directory\n",
    "\n",
    "import os\n",
    "# for dirname, _, filenames in os.walk('/kaggle/input'):\n",
    "#     for filename in filenames:\n",
    "#         print(os.path.join(dirname, filename))\n",
    "\n",
    "# You can write up to 20GB to the current directory (/kaggle/working/) that gets preserved as output when you create a version using \"Save & Run All\" \n",
    "# You can also write temporary files to /kaggle/temp/, but they won't be saved outside of the current session\n",
    "\n",
    "# Text processing\n",
    "import re\n",
    "import PyPDF2"
   ]
  },
  {
   "cell_type": "code",
   "execution_count": 282,
   "metadata": {
    "execution": {
     "iopub.execute_input": "2025-06-18T17:15:16.615877Z",
     "iopub.status.busy": "2025-06-18T17:15:16.614980Z",
     "iopub.status.idle": "2025-06-18T17:15:16.620823Z",
     "shell.execute_reply": "2025-06-18T17:15:16.619941Z",
     "shell.execute_reply.started": "2025-06-18T17:15:16.615845Z"
    },
    "trusted": true
   },
   "outputs": [
    {
     "name": "stdout",
     "output_type": "stream",
     "text": [
      "None\n"
     ]
    }
   ],
   "source": [
    "print(os.getenv('KAGGLE_IS_COMPETITION_RERUN'))"
   ]
  },
  {
   "cell_type": "markdown",
   "metadata": {},
   "source": [
    "## Data File Paths and Names"
   ]
  },
  {
   "cell_type": "code",
   "execution_count": 283,
   "metadata": {
    "execution": {
     "iopub.execute_input": "2025-06-18T15:12:44.964390Z",
     "iopub.status.busy": "2025-06-18T15:12:44.963957Z",
     "iopub.status.idle": "2025-06-18T15:12:44.969480Z",
     "shell.execute_reply": "2025-06-18T15:12:44.968543Z",
     "shell.execute_reply.started": "2025-06-18T15:12:44.964363Z"
    },
    "trusted": true
   },
   "outputs": [],
   "source": [
    "base_path = './kaggle/input/make-data-count-finding-data-references/'\n",
    "data_type_names = ['train', 'test']\n",
    "file_type_names = ['PDF', 'XML']\n",
    "train_labels_file_path = base_path+'train_labels.csv'\n",
    "sample_submission_file_path = base_path+'sample_submission.csv'"
   ]
  },
  {
   "cell_type": "markdown",
   "metadata": {},
   "source": [
    "## Load Label Data"
   ]
  },
  {
   "cell_type": "code",
   "execution_count": 284,
   "metadata": {
    "execution": {
     "iopub.execute_input": "2025-06-18T17:56:15.710581Z",
     "iopub.status.busy": "2025-06-18T17:56:15.710239Z",
     "iopub.status.idle": "2025-06-18T17:56:15.726138Z",
     "shell.execute_reply": "2025-06-18T17:56:15.725324Z",
     "shell.execute_reply.started": "2025-06-18T17:56:15.710550Z"
    },
    "trusted": true
   },
   "outputs": [
    {
     "data": {
      "application/vnd.microsoft.datawrangler.viewer.v0+json": {
       "columns": [
        {
         "name": "index",
         "rawType": "int64",
         "type": "integer"
        },
        {
         "name": "article_id",
         "rawType": "object",
         "type": "string"
        },
        {
         "name": "dataset_id",
         "rawType": "object",
         "type": "string"
        },
        {
         "name": "type",
         "rawType": "object",
         "type": "string"
        }
       ],
       "ref": "796fe946-c8f0-44ff-93e1-2c4005acc955",
       "rows": [
        [
         "0",
         "10.1002_2017jc013030",
         "https://doi.org/10.17882/49388",
         "Primary"
        ],
        [
         "1",
         "10.1002_anie.201916483",
         "Missing",
         "Missing"
        ],
        [
         "2",
         "10.1002_anie.202005531",
         "Missing",
         "Missing"
        ],
        [
         "3",
         "10.1002_anie.202007717",
         "Missing",
         "Missing"
        ],
        [
         "4",
         "10.1002_chem.201902131",
         "Missing",
         "Missing"
        ],
        [
         "5",
         "10.1002_chem.201903120",
         "Missing",
         "Missing"
        ],
        [
         "6",
         "10.1002_chem.202000235",
         "Missing",
         "Missing"
        ],
        [
         "7",
         "10.1002_chem.202001412",
         "Missing",
         "Missing"
        ],
        [
         "8",
         "10.1002_chem.202001668",
         "Missing",
         "Missing"
        ],
        [
         "9",
         "10.1002_chem.202003167",
         "Missing",
         "Missing"
        ],
        [
         "10",
         "10.1002_ece3.3985",
         "Missing",
         "Missing"
        ],
        [
         "11",
         "10.1002_ece3.4466",
         "https://doi.org/10.5061/dryad.r6nq870",
         "Primary"
        ],
        [
         "12",
         "10.1002_ece3.5260",
         "https://doi.org/10.5061/dryad.2f62927",
         "Primary"
        ],
        [
         "13",
         "10.1002_ece3.5395",
         "Missing",
         "Missing"
        ],
        [
         "14",
         "10.1002_ece3.6144",
         "https://doi.org/10.5061/dryad.zw3r22854",
         "Primary"
        ],
        [
         "15",
         "10.1002_ece3.6303",
         "https://doi.org/10.5061/dryad.37pvmcvgb",
         "Primary"
        ],
        [
         "16",
         "10.1002_ece3.6784",
         "Missing",
         "Missing"
        ],
        [
         "17",
         "10.1002_ece3.961",
         "Missing",
         "Missing"
        ],
        [
         "18",
         "10.1002_ece3.9627",
         "https://doi.org/10.5061/dryad.b8gtht7h3",
         "Primary"
        ],
        [
         "19",
         "10.1002_ecs2.1280",
         "https://doi.org/10.5061/dryad.p3fg9",
         "Primary"
        ],
        [
         "20",
         "10.1002_ecs2.4619",
         "https://doi.org/10.25349/d9qw5x",
         "Primary"
        ],
        [
         "21",
         "10.1002_ejic.201900904",
         "Missing",
         "Missing"
        ],
        [
         "22",
         "10.1002_ejoc.202000139",
         "Missing",
         "Missing"
        ],
        [
         "23",
         "10.1002_ejoc.202000916",
         "Missing",
         "Missing"
        ],
        [
         "24",
         "10.1002_esp.5058",
         "https://doi.org/10.5061/dryad.jh9w0vt9t",
         "Primary"
        ],
        [
         "25",
         "10.1002_esp.5090",
         "https://doi.org/10.5066/p9353101",
         "Secondary"
        ],
        [
         "26",
         "10.1002_mp.14424",
         "https://doi.org/10.7937/k9/tcia.2015.pf0m9rei",
         "Secondary"
        ],
        [
         "27",
         "10.1002_mp.14424",
         "https://doi.org/10.7937/tcia.2020.6c7y-gq39",
         "Primary"
        ],
        [
         "28",
         "10.1002_nafm.10870",
         "https://doi.org/10.5066/p9gtumay",
         "Primary"
        ],
        [
         "29",
         "10.1007_jhep07(2018)134",
         "Missing",
         "Missing"
        ],
        [
         "30",
         "10.1007_jhep11(2018)113",
         "Missing",
         "Missing"
        ],
        [
         "31",
         "10.1007_jhep11(2018)115",
         "Missing",
         "Missing"
        ],
        [
         "32",
         "10.1007_jhep12(2018)117",
         "Missing",
         "Missing"
        ],
        [
         "33",
         "10.1007_s00259-022-06053-8",
         "https://doi.org/10.7937/k9/tcia.2017.7hs46erv",
         "Secondary"
        ],
        [
         "34",
         "10.1007_s00259-022-06053-8",
         "https://doi.org/10.7937/tcia.2019.30ilqfcl",
         "Secondary"
        ],
        [
         "35",
         "10.1007_s00382-012-1636-1",
         "Missing",
         "Missing"
        ],
        [
         "36",
         "10.1007_s00382-022-06361-7",
         "https://doi.org/10.6075/j0154fjj",
         "Primary"
        ],
        [
         "37",
         "10.1007_s00382-022-06361-7",
         "https://doi.org/10.6075/j089161b",
         "Primary"
        ],
        [
         "38",
         "10.1007_s00442-022-05201-z",
         "https://doi.org/10.5061/dryad.wpzgmsbps",
         "Primary"
        ],
        [
         "39",
         "10.1007_s10904-014-0054-8",
         "Missing",
         "Missing"
        ],
        [
         "40",
         "10.1007_s12263-014-0408-4",
         "Missing",
         "Missing"
        ],
        [
         "41",
         "10.1007_s12559-020-09751-3",
         "https://doi.org/10.7937/k9/tcia.2015.u1x8a5nr",
         "Secondary"
        ],
        [
         "42",
         "10.1016_j.ast.2022.107401",
         "https://doi.org/10.17862/cranfield.rd.19146182",
         "Primary"
        ],
        [
         "43",
         "10.1016_j.ast.2022.107401",
         "https://doi.org/10.17862/cranfield.rd.19146182.v1",
         "Primary"
        ],
        [
         "44",
         "10.1016_j.cpc.2024.109087",
         "https://doi.org/10.17632/9gr6pxhfjm",
         "Primary"
        ],
        [
         "45",
         "10.1016_j.dib.2022.108797",
         "https://doi.org/10.1594/pangaea.949117",
         "Primary"
        ],
        [
         "46",
         "10.1016_j.dib.2023.109949",
         "https://doi.org/10.5281/zenodo.8338991",
         "Primary"
        ],
        [
         "47",
         "10.1016_j.ecolind.2021.107934",
         "https://doi.org/10.6073/pasta/be42bb841e696b7bcad9957aed33db5e",
         "Secondary"
        ],
        [
         "48",
         "10.1016_j.fuel.2022.125768",
         "https://doi.org/10.11583/dtu.20555586",
         "Primary"
        ],
        [
         "49",
         "10.1016_j.fuel.2022.125768",
         "https://doi.org/10.11583/dtu.20555586.v3",
         "Primary"
        ]
       ],
       "shape": {
        "columns": 3,
        "rows": 1028
       }
      },
      "text/html": [
       "<div>\n",
       "<style scoped>\n",
       "    .dataframe tbody tr th:only-of-type {\n",
       "        vertical-align: middle;\n",
       "    }\n",
       "\n",
       "    .dataframe tbody tr th {\n",
       "        vertical-align: top;\n",
       "    }\n",
       "\n",
       "    .dataframe thead th {\n",
       "        text-align: right;\n",
       "    }\n",
       "</style>\n",
       "<table border=\"1\" class=\"dataframe\">\n",
       "  <thead>\n",
       "    <tr style=\"text-align: right;\">\n",
       "      <th></th>\n",
       "      <th>article_id</th>\n",
       "      <th>dataset_id</th>\n",
       "      <th>type</th>\n",
       "    </tr>\n",
       "  </thead>\n",
       "  <tbody>\n",
       "    <tr>\n",
       "      <th>0</th>\n",
       "      <td>10.1002_2017jc013030</td>\n",
       "      <td>https://doi.org/10.17882/49388</td>\n",
       "      <td>Primary</td>\n",
       "    </tr>\n",
       "    <tr>\n",
       "      <th>1</th>\n",
       "      <td>10.1002_anie.201916483</td>\n",
       "      <td>Missing</td>\n",
       "      <td>Missing</td>\n",
       "    </tr>\n",
       "    <tr>\n",
       "      <th>2</th>\n",
       "      <td>10.1002_anie.202005531</td>\n",
       "      <td>Missing</td>\n",
       "      <td>Missing</td>\n",
       "    </tr>\n",
       "    <tr>\n",
       "      <th>3</th>\n",
       "      <td>10.1002_anie.202007717</td>\n",
       "      <td>Missing</td>\n",
       "      <td>Missing</td>\n",
       "    </tr>\n",
       "    <tr>\n",
       "      <th>4</th>\n",
       "      <td>10.1002_chem.201902131</td>\n",
       "      <td>Missing</td>\n",
       "      <td>Missing</td>\n",
       "    </tr>\n",
       "    <tr>\n",
       "      <th>...</th>\n",
       "      <td>...</td>\n",
       "      <td>...</td>\n",
       "      <td>...</td>\n",
       "    </tr>\n",
       "    <tr>\n",
       "      <th>1023</th>\n",
       "      <td>10.7717_peerj.12422</td>\n",
       "      <td>https://doi.org/10.15468/dl.t3h8b4</td>\n",
       "      <td>Secondary</td>\n",
       "    </tr>\n",
       "    <tr>\n",
       "      <th>1024</th>\n",
       "      <td>10.7717_peerj.12422</td>\n",
       "      <td>https://doi.org/10.15468/dl.yak5vd</td>\n",
       "      <td>Secondary</td>\n",
       "    </tr>\n",
       "    <tr>\n",
       "      <th>1025</th>\n",
       "      <td>10.7717_peerj.13193</td>\n",
       "      <td>https://doi.org/10.6073/pasta/02e2764efb408a8b...</td>\n",
       "      <td>Secondary</td>\n",
       "    </tr>\n",
       "    <tr>\n",
       "      <th>1026</th>\n",
       "      <td>10.7717_peerj.13193</td>\n",
       "      <td>https://doi.org/10.6073/pasta/275ad28a2f31356c...</td>\n",
       "      <td>Secondary</td>\n",
       "    </tr>\n",
       "    <tr>\n",
       "      <th>1027</th>\n",
       "      <td>10.7717_peerj.13193</td>\n",
       "      <td>https://doi.org/10.6073/pasta/b23deb8e1ccf1c14...</td>\n",
       "      <td>Primary</td>\n",
       "    </tr>\n",
       "  </tbody>\n",
       "</table>\n",
       "<p>1028 rows × 3 columns</p>\n",
       "</div>"
      ],
      "text/plain": [
       "                  article_id  \\\n",
       "0       10.1002_2017jc013030   \n",
       "1     10.1002_anie.201916483   \n",
       "2     10.1002_anie.202005531   \n",
       "3     10.1002_anie.202007717   \n",
       "4     10.1002_chem.201902131   \n",
       "...                      ...   \n",
       "1023     10.7717_peerj.12422   \n",
       "1024     10.7717_peerj.12422   \n",
       "1025     10.7717_peerj.13193   \n",
       "1026     10.7717_peerj.13193   \n",
       "1027     10.7717_peerj.13193   \n",
       "\n",
       "                                             dataset_id       type  \n",
       "0                        https://doi.org/10.17882/49388    Primary  \n",
       "1                                               Missing    Missing  \n",
       "2                                               Missing    Missing  \n",
       "3                                               Missing    Missing  \n",
       "4                                               Missing    Missing  \n",
       "...                                                 ...        ...  \n",
       "1023                 https://doi.org/10.15468/dl.t3h8b4  Secondary  \n",
       "1024                 https://doi.org/10.15468/dl.yak5vd  Secondary  \n",
       "1025  https://doi.org/10.6073/pasta/02e2764efb408a8b...  Secondary  \n",
       "1026  https://doi.org/10.6073/pasta/275ad28a2f31356c...  Secondary  \n",
       "1027  https://doi.org/10.6073/pasta/b23deb8e1ccf1c14...    Primary  \n",
       "\n",
       "[1028 rows x 3 columns]"
      ]
     },
     "execution_count": 284,
     "metadata": {},
     "output_type": "execute_result"
    }
   ],
   "source": [
    "# Create DF from training labels and drop 'Missing' type\n",
    "# This is the file that contains the mapping of article_id to dataset_id and type\n",
    "train_labels_df = pd.read_csv(train_labels_file_path)\n",
    "train_labels_df\n"
   ]
  },
  {
   "cell_type": "markdown",
   "metadata": {},
   "source": [
    "## Preprocess Label Data"
   ]
  },
  {
   "cell_type": "code",
   "execution_count": 285,
   "metadata": {},
   "outputs": [],
   "source": [
    "# Function to normalize dataset IDs\n",
    "# This function takes a dataset ID as input and normalizes it by removing the \"doi.org/\" prefix if it exists.\n",
    "def normalze_dataset_id(id: str) -> str:\n",
    "    # Regex to capture the DOI part after \"doi.org/\"\n",
    "    # It handles optional \"https://\" and \"www.\"\n",
    "    dryad_marker = \"/dryad.\"\n",
    "    regex = r\"(?:https://)?(?:www\\.)?doi\\.org/(.+)\"\n",
    "    match = re.search(regex, str(id).lower())\n",
    "    if match:\n",
    "        # The DOI is in the first capturing group\n",
    "        full_doi_candidate = match.group(1)\n",
    "        dryad_index = full_doi_candidate.find(dryad_marker)\n",
    "        if dryad_index != -1:\n",
    "            # If \"dryad.\" is found, return the part after it\n",
    "            return full_doi_candidate[:dryad_index + len(dryad_marker) + 5]\n",
    "        else:\n",
    "            # Otherwise, return the full DOI\n",
    "            return full_doi_candidate\n",
    "    # If no match is found, return the original ID\n",
    "    else:\n",
    "        return id\n",
    "    \n",
    "    "
   ]
  },
  {
   "cell_type": "code",
   "execution_count": 286,
   "metadata": {},
   "outputs": [
    {
     "data": {
      "application/vnd.microsoft.datawrangler.viewer.v0+json": {
       "columns": [
        {
         "name": "index",
         "rawType": "int64",
         "type": "integer"
        },
        {
         "name": "article_id",
         "rawType": "object",
         "type": "string"
        },
        {
         "name": "dataset_id",
         "rawType": "object",
         "type": "string"
        },
        {
         "name": "type",
         "rawType": "object",
         "type": "string"
        },
        {
         "name": "dataset_id_norm",
         "rawType": "object",
         "type": "string"
        }
       ],
       "ref": "e7147904-c4e9-4f9c-94ca-4974752e9e1b",
       "rows": [
        [
         "0",
         "10.1002_2017jc013030",
         "https://doi.org/10.17882/49388",
         "Primary",
         "10.17882/49388"
        ],
        [
         "1",
         "10.1002_ece3.4466",
         "https://doi.org/10.5061/dryad.r6nq870",
         "Primary",
         "10.5061/dryad.r6nq8"
        ],
        [
         "2",
         "10.1002_ece3.5260",
         "https://doi.org/10.5061/dryad.2f62927",
         "Primary",
         "10.5061/dryad.2f629"
        ],
        [
         "3",
         "10.1002_ece3.6144",
         "https://doi.org/10.5061/dryad.zw3r22854",
         "Primary",
         "10.5061/dryad.zw3r2"
        ],
        [
         "4",
         "10.1002_ece3.6303",
         "https://doi.org/10.5061/dryad.37pvmcvgb",
         "Primary",
         "10.5061/dryad.37pvm"
        ],
        [
         "5",
         "10.1002_ece3.9627",
         "https://doi.org/10.5061/dryad.b8gtht7h3",
         "Primary",
         "10.5061/dryad.b8gth"
        ],
        [
         "6",
         "10.1002_ecs2.1280",
         "https://doi.org/10.5061/dryad.p3fg9",
         "Primary",
         "10.5061/dryad.p3fg9"
        ],
        [
         "7",
         "10.1002_ecs2.4619",
         "https://doi.org/10.25349/d9qw5x",
         "Primary",
         "10.25349/d9qw5x"
        ],
        [
         "8",
         "10.1002_esp.5058",
         "https://doi.org/10.5061/dryad.jh9w0vt9t",
         "Primary",
         "10.5061/dryad.jh9w0"
        ],
        [
         "9",
         "10.1002_esp.5090",
         "https://doi.org/10.5066/p9353101",
         "Secondary",
         "10.5066/p9353101"
        ],
        [
         "10",
         "10.1002_mp.14424",
         "https://doi.org/10.7937/k9/tcia.2015.pf0m9rei",
         "Secondary",
         "10.7937/k9/tcia.2015.pf0m9rei"
        ],
        [
         "11",
         "10.1002_mp.14424",
         "https://doi.org/10.7937/tcia.2020.6c7y-gq39",
         "Primary",
         "10.7937/tcia.2020.6c7y-gq39"
        ],
        [
         "12",
         "10.1002_nafm.10870",
         "https://doi.org/10.5066/p9gtumay",
         "Primary",
         "10.5066/p9gtumay"
        ],
        [
         "13",
         "10.1007_s00259-022-06053-8",
         "https://doi.org/10.7937/k9/tcia.2017.7hs46erv",
         "Secondary",
         "10.7937/k9/tcia.2017.7hs46erv"
        ],
        [
         "14",
         "10.1007_s00259-022-06053-8",
         "https://doi.org/10.7937/tcia.2019.30ilqfcl",
         "Secondary",
         "10.7937/tcia.2019.30ilqfcl"
        ],
        [
         "15",
         "10.1007_s00382-022-06361-7",
         "https://doi.org/10.6075/j0154fjj",
         "Primary",
         "10.6075/j0154fjj"
        ],
        [
         "16",
         "10.1007_s00382-022-06361-7",
         "https://doi.org/10.6075/j089161b",
         "Primary",
         "10.6075/j089161b"
        ],
        [
         "17",
         "10.1007_s00442-022-05201-z",
         "https://doi.org/10.5061/dryad.wpzgmsbps",
         "Primary",
         "10.5061/dryad.wpzgm"
        ],
        [
         "18",
         "10.1007_s12559-020-09751-3",
         "https://doi.org/10.7937/k9/tcia.2015.u1x8a5nr",
         "Secondary",
         "10.7937/k9/tcia.2015.u1x8a5nr"
        ],
        [
         "19",
         "10.1016_j.ast.2022.107401",
         "https://doi.org/10.17862/cranfield.rd.19146182",
         "Primary",
         "10.17862/cranfield.rd.19146182"
        ],
        [
         "20",
         "10.1016_j.ast.2022.107401",
         "https://doi.org/10.17862/cranfield.rd.19146182.v1",
         "Primary",
         "10.17862/cranfield.rd.19146182.v1"
        ],
        [
         "21",
         "10.1016_j.cpc.2024.109087",
         "https://doi.org/10.17632/9gr6pxhfjm",
         "Primary",
         "10.17632/9gr6pxhfjm"
        ],
        [
         "22",
         "10.1016_j.dib.2022.108797",
         "https://doi.org/10.1594/pangaea.949117",
         "Primary",
         "10.1594/pangaea.949117"
        ],
        [
         "23",
         "10.1016_j.dib.2023.109949",
         "https://doi.org/10.5281/zenodo.8338991",
         "Primary",
         "10.5281/zenodo.8338991"
        ],
        [
         "24",
         "10.1016_j.ecolind.2021.107934",
         "https://doi.org/10.6073/pasta/be42bb841e696b7bcad9957aed33db5e",
         "Secondary",
         "10.6073/pasta/be42bb841e696b7bcad9957aed33db5e"
        ],
        [
         "25",
         "10.1016_j.fuel.2022.125768",
         "https://doi.org/10.11583/dtu.20555586",
         "Primary",
         "10.11583/dtu.20555586"
        ],
        [
         "26",
         "10.1016_j.fuel.2022.125768",
         "https://doi.org/10.11583/dtu.20555586.v3",
         "Primary",
         "10.11583/dtu.20555586.v3"
        ],
        [
         "27",
         "10.1016_j.jlp.2022.104761",
         "https://doi.org/10.23642/usn.15134442",
         "Primary",
         "10.23642/usn.15134442"
        ],
        [
         "28",
         "10.1016_j.jlp.2022.104761",
         "https://doi.org/10.23642/usn.15134442.v1",
         "Primary",
         "10.23642/usn.15134442.v1"
        ],
        [
         "29",
         "10.1016_j.jobe.2023.107105",
         "https://doi.org/10.5281/zenodo.8014149",
         "Primary",
         "10.5281/zenodo.8014149"
        ],
        [
         "30",
         "10.1016_j.jobe.2023.107105",
         "https://doi.org/10.5281/zenodo.8014150",
         "Primary",
         "10.5281/zenodo.8014150"
        ],
        [
         "31",
         "10.1016_j.jsames.2022.103824",
         "https://doi.org/10.5066/f7k072r7",
         "Primary",
         "10.5066/f7k072r7"
        ],
        [
         "32",
         "10.1016_j.molcel.2018.11.006",
         "https://doi.org/10.17632/jb4jjxsbb7.1",
         "Primary",
         "10.17632/jb4jjxsbb7.1"
        ],
        [
         "33",
         "10.1016_j.molcel.2018.11.006",
         "https://doi.org/10.17632/xtb4mkvf8f.1",
         "Primary",
         "10.17632/xtb4mkvf8f.1"
        ],
        [
         "34",
         "10.1016_j.scitotenv.2024.171850",
         "https://doi.org/10.17863/cam.107163",
         "Primary",
         "10.17863/cam.107163"
        ],
        [
         "35",
         "10.1016_j.websem.2024.100815",
         "https://doi.org/10.17863/cam.82548",
         "Primary",
         "10.17863/cam.82548"
        ],
        [
         "36",
         "10.1017_rdc.2022.19",
         "https://doi.org/10.11588/data/10100",
         "Secondary",
         "10.11588/data/10100"
        ],
        [
         "37",
         "10.1017_s0007123423000601",
         "https://doi.org/10.7910/dvn/fwckse",
         "Primary",
         "10.7910/dvn/fwckse"
        ],
        [
         "38",
         "10.1021_acs.jcim.9b01185",
         "https://doi.org/10.5281/zenodo.3667633",
         "Primary",
         "10.5281/zenodo.3667633"
        ],
        [
         "39",
         "10.1021_acscentsci.1c01109",
         "https://doi.org/10.21942/uva.17040392",
         "Primary",
         "10.21942/uva.17040392"
        ],
        [
         "40",
         "10.1021_acsomega.3c06074",
         "5VA1",
         "Secondary",
         "5VA1"
        ],
        [
         "41",
         "10.1021_acsomega.3c06074",
         "CHEMBL1097",
         "Secondary",
         "CHEMBL1097"
        ],
        [
         "42",
         "10.1021_acsomega.3c06074",
         "CHEMBL1257578",
         "Secondary",
         "CHEMBL1257578"
        ],
        [
         "43",
         "10.1021_acsomega.3c06074",
         "CHEMBL1257821",
         "Secondary",
         "CHEMBL1257821"
        ],
        [
         "44",
         "10.1021_acsomega.3c06074",
         "CHEMBL1782574",
         "Secondary",
         "CHEMBL1782574"
        ],
        [
         "45",
         "10.1021_acsomega.3c06074",
         "CHEMBL195180",
         "Secondary",
         "CHEMBL195180"
        ],
        [
         "46",
         "10.1021_acsomega.3c06074",
         "CHEMBL2424928",
         "Secondary",
         "CHEMBL2424928"
        ],
        [
         "47",
         "10.1021_acsomega.3c06074",
         "CHEMBL3422978",
         "Secondary",
         "CHEMBL3422978"
        ],
        [
         "48",
         "10.1021_acsomega.3c06074",
         "CHEMBL390649",
         "Secondary",
         "CHEMBL390649"
        ],
        [
         "49",
         "10.1021_acsomega.3c06074",
         "CHEMBL572163",
         "Secondary",
         "CHEMBL572163"
        ]
       ],
       "shape": {
        "columns": 4,
        "rows": 719
       }
      },
      "text/html": [
       "<div>\n",
       "<style scoped>\n",
       "    .dataframe tbody tr th:only-of-type {\n",
       "        vertical-align: middle;\n",
       "    }\n",
       "\n",
       "    .dataframe tbody tr th {\n",
       "        vertical-align: top;\n",
       "    }\n",
       "\n",
       "    .dataframe thead th {\n",
       "        text-align: right;\n",
       "    }\n",
       "</style>\n",
       "<table border=\"1\" class=\"dataframe\">\n",
       "  <thead>\n",
       "    <tr style=\"text-align: right;\">\n",
       "      <th></th>\n",
       "      <th>article_id</th>\n",
       "      <th>dataset_id</th>\n",
       "      <th>type</th>\n",
       "      <th>dataset_id_norm</th>\n",
       "    </tr>\n",
       "  </thead>\n",
       "  <tbody>\n",
       "    <tr>\n",
       "      <th>0</th>\n",
       "      <td>10.1002_2017jc013030</td>\n",
       "      <td>https://doi.org/10.17882/49388</td>\n",
       "      <td>Primary</td>\n",
       "      <td>10.17882/49388</td>\n",
       "    </tr>\n",
       "    <tr>\n",
       "      <th>1</th>\n",
       "      <td>10.1002_ece3.4466</td>\n",
       "      <td>https://doi.org/10.5061/dryad.r6nq870</td>\n",
       "      <td>Primary</td>\n",
       "      <td>10.5061/dryad.r6nq8</td>\n",
       "    </tr>\n",
       "    <tr>\n",
       "      <th>2</th>\n",
       "      <td>10.1002_ece3.5260</td>\n",
       "      <td>https://doi.org/10.5061/dryad.2f62927</td>\n",
       "      <td>Primary</td>\n",
       "      <td>10.5061/dryad.2f629</td>\n",
       "    </tr>\n",
       "    <tr>\n",
       "      <th>3</th>\n",
       "      <td>10.1002_ece3.6144</td>\n",
       "      <td>https://doi.org/10.5061/dryad.zw3r22854</td>\n",
       "      <td>Primary</td>\n",
       "      <td>10.5061/dryad.zw3r2</td>\n",
       "    </tr>\n",
       "    <tr>\n",
       "      <th>4</th>\n",
       "      <td>10.1002_ece3.6303</td>\n",
       "      <td>https://doi.org/10.5061/dryad.37pvmcvgb</td>\n",
       "      <td>Primary</td>\n",
       "      <td>10.5061/dryad.37pvm</td>\n",
       "    </tr>\n",
       "    <tr>\n",
       "      <th>...</th>\n",
       "      <td>...</td>\n",
       "      <td>...</td>\n",
       "      <td>...</td>\n",
       "      <td>...</td>\n",
       "    </tr>\n",
       "    <tr>\n",
       "      <th>714</th>\n",
       "      <td>10.7717_peerj.12422</td>\n",
       "      <td>https://doi.org/10.15468/dl.t3h8b4</td>\n",
       "      <td>Secondary</td>\n",
       "      <td>10.15468/dl.t3h8b4</td>\n",
       "    </tr>\n",
       "    <tr>\n",
       "      <th>715</th>\n",
       "      <td>10.7717_peerj.12422</td>\n",
       "      <td>https://doi.org/10.15468/dl.yak5vd</td>\n",
       "      <td>Secondary</td>\n",
       "      <td>10.15468/dl.yak5vd</td>\n",
       "    </tr>\n",
       "    <tr>\n",
       "      <th>716</th>\n",
       "      <td>10.7717_peerj.13193</td>\n",
       "      <td>https://doi.org/10.6073/pasta/02e2764efb408a8b...</td>\n",
       "      <td>Secondary</td>\n",
       "      <td>10.6073/pasta/02e2764efb408a8b66b7f486eac14dc0</td>\n",
       "    </tr>\n",
       "    <tr>\n",
       "      <th>717</th>\n",
       "      <td>10.7717_peerj.13193</td>\n",
       "      <td>https://doi.org/10.6073/pasta/275ad28a2f31356c...</td>\n",
       "      <td>Secondary</td>\n",
       "      <td>10.6073/pasta/275ad28a2f31356cf9c2648531a16a2b</td>\n",
       "    </tr>\n",
       "    <tr>\n",
       "      <th>718</th>\n",
       "      <td>10.7717_peerj.13193</td>\n",
       "      <td>https://doi.org/10.6073/pasta/b23deb8e1ccf1c14...</td>\n",
       "      <td>Primary</td>\n",
       "      <td>10.6073/pasta/b23deb8e1ccf1c1413382bf911c6be19</td>\n",
       "    </tr>\n",
       "  </tbody>\n",
       "</table>\n",
       "<p>719 rows × 4 columns</p>\n",
       "</div>"
      ],
      "text/plain": [
       "               article_id                                         dataset_id  \\\n",
       "0    10.1002_2017jc013030                     https://doi.org/10.17882/49388   \n",
       "1       10.1002_ece3.4466              https://doi.org/10.5061/dryad.r6nq870   \n",
       "2       10.1002_ece3.5260              https://doi.org/10.5061/dryad.2f62927   \n",
       "3       10.1002_ece3.6144            https://doi.org/10.5061/dryad.zw3r22854   \n",
       "4       10.1002_ece3.6303            https://doi.org/10.5061/dryad.37pvmcvgb   \n",
       "..                    ...                                                ...   \n",
       "714   10.7717_peerj.12422                 https://doi.org/10.15468/dl.t3h8b4   \n",
       "715   10.7717_peerj.12422                 https://doi.org/10.15468/dl.yak5vd   \n",
       "716   10.7717_peerj.13193  https://doi.org/10.6073/pasta/02e2764efb408a8b...   \n",
       "717   10.7717_peerj.13193  https://doi.org/10.6073/pasta/275ad28a2f31356c...   \n",
       "718   10.7717_peerj.13193  https://doi.org/10.6073/pasta/b23deb8e1ccf1c14...   \n",
       "\n",
       "          type                                 dataset_id_norm  \n",
       "0      Primary                                  10.17882/49388  \n",
       "1      Primary                             10.5061/dryad.r6nq8  \n",
       "2      Primary                             10.5061/dryad.2f629  \n",
       "3      Primary                             10.5061/dryad.zw3r2  \n",
       "4      Primary                             10.5061/dryad.37pvm  \n",
       "..         ...                                             ...  \n",
       "714  Secondary                              10.15468/dl.t3h8b4  \n",
       "715  Secondary                              10.15468/dl.yak5vd  \n",
       "716  Secondary  10.6073/pasta/02e2764efb408a8b66b7f486eac14dc0  \n",
       "717  Secondary  10.6073/pasta/275ad28a2f31356cf9c2648531a16a2b  \n",
       "718    Primary  10.6073/pasta/b23deb8e1ccf1c1413382bf911c6be19  \n",
       "\n",
       "[719 rows x 4 columns]"
      ]
     },
     "execution_count": 286,
     "metadata": {},
     "output_type": "execute_result"
    }
   ],
   "source": [
    "# Drop 'Missing' type from train_labels_df\n",
    "train_labels_df = train_labels_df[train_labels_df['type'] != 'Missing'].reset_index(drop=True)\n",
    "\n",
    "# Normalize dataset IDs in train_labels_df\n",
    "train_labels_df['dataset_id_norm'] = train_labels_df['dataset_id'].apply(normalze_dataset_id)\n",
    "\n",
    "train_labels_df"
   ]
  },
  {
   "cell_type": "code",
   "execution_count": 287,
   "metadata": {
    "execution": {
     "iopub.execute_input": "2025-06-18T17:56:21.434509Z",
     "iopub.status.busy": "2025-06-18T17:56:21.433918Z",
     "iopub.status.idle": "2025-06-18T17:56:21.439895Z",
     "shell.execute_reply": "2025-06-18T17:56:21.438949Z",
     "shell.execute_reply.started": "2025-06-18T17:56:21.434481Z"
    },
    "trusted": true
   },
   "outputs": [
    {
     "name": "stdout",
     "output_type": "stream",
     "text": [
      "unique articles: 214\n",
      "unique datasets: 719\n"
     ]
    }
   ],
   "source": [
    "# Number of unique articles and datasets\n",
    "print(f\"unique articles: {train_labels_df['article_id'].nunique()}\")\n",
    "print(f\"unique datasets: {train_labels_df['dataset_id'].nunique()}\")"
   ]
  },
  {
   "cell_type": "markdown",
   "metadata": {},
   "source": [
    "## Merge article_id's with related file names for articles that have a dataset_id"
   ]
  },
  {
   "cell_type": "code",
   "execution_count": 288,
   "metadata": {},
   "outputs": [],
   "source": [
    "# Function to get files related to article_id's\n",
    "def get_files(data_type_name: str) -> pd.DataFrame:\n",
    "    # Get PDF files\n",
    "    pdf_path = os.path.join(base_path + data_type_name, 'PDF')\n",
    "    pdf_ext = '.pdf'\n",
    "    pdf_files = [f for f in os.listdir(pdf_path) if f.endswith(pdf_ext)]\n",
    "    pdf_df = pd.DataFrame({\n",
    "        'article_id': [f.replace(pdf_ext, '') for f in pdf_files],\n",
    "        'article_file_path_pdf': [os.path.join(pdf_path, f) for f in pdf_files],\n",
    "    })\n",
    "\n",
    "    # Get XML files\n",
    "    xml_path = os.path.join(base_path + data_type_name, 'XML')\n",
    "    xml_ext = '.xml'\n",
    "    xml_files = [f for f in os.listdir(xml_path) if f.endswith(xml_ext)]\n",
    "    xml_df = pd.DataFrame({\n",
    "        'article_id': [f.replace(xml_ext, '') for f in xml_files],\n",
    "        'article_file_path_xml': [os.path.join(xml_path, f) for f in xml_files],\n",
    "    })\n",
    "\n",
    "    # Merge on article_id to get one row per article_id\n",
    "    merged_df = pd.merge(pdf_df, xml_df, on='article_id', how='outer', validate='one_to_one')\n",
    "\n",
    "    # Add data_type_name column\n",
    "    merged_df['data_type_name'] = data_type_name\n",
    "    # Reorder columns to have article_id first\n",
    "    merged_df = merged_df[['article_id', 'data_type_name', 'article_file_path_pdf', 'article_file_path_xml']]\n",
    "    return merged_df"
   ]
  },
  {
   "cell_type": "code",
   "execution_count": 289,
   "metadata": {
    "execution": {
     "iopub.execute_input": "2025-06-18T17:57:49.917969Z",
     "iopub.status.busy": "2025-06-18T17:57:49.917021Z",
     "iopub.status.idle": "2025-06-18T17:57:49.922459Z",
     "shell.execute_reply": "2025-06-18T17:57:49.921698Z",
     "shell.execute_reply.started": "2025-06-18T17:57:49.917934Z"
    },
    "trusted": true
   },
   "outputs": [],
   "source": [
    "# Function to merge article_id's with related files for articles that have a dataset_id\n",
    "# This will return a DataFrame with article_id, dataset_id, and file paths for both PDF and XML files\n",
    "# It will drop any articles that do not have a dataset_id\n",
    "def merge_articles_and_files(data_type_name: str) -> pd.DataFrame:\n",
    "    files_df = get_files(data_type_name)\n",
    "    return pd.merge(files_df, train_labels_df, on='article_id', how='left', validate='many_to_many').dropna(subset=['dataset_id']).sort_values(['article_id', 'dataset_id']).reset_index(drop=True)"
   ]
  },
  {
   "cell_type": "code",
   "execution_count": 290,
   "metadata": {
    "execution": {
     "iopub.execute_input": "2025-06-18T18:00:49.252511Z",
     "iopub.status.busy": "2025-06-18T18:00:49.252130Z",
     "iopub.status.idle": "2025-06-18T18:00:49.274511Z",
     "shell.execute_reply": "2025-06-18T18:00:49.273545Z",
     "shell.execute_reply.started": "2025-06-18T18:00:49.252486Z"
    },
    "trusted": true
   },
   "outputs": [
    {
     "data": {
      "application/vnd.microsoft.datawrangler.viewer.v0+json": {
       "columns": [
        {
         "name": "index",
         "rawType": "int64",
         "type": "integer"
        },
        {
         "name": "article_id",
         "rawType": "object",
         "type": "string"
        },
        {
         "name": "data_type_name",
         "rawType": "object",
         "type": "string"
        },
        {
         "name": "article_file_path_pdf",
         "rawType": "object",
         "type": "string"
        },
        {
         "name": "article_file_path_xml",
         "rawType": "object",
         "type": "unknown"
        },
        {
         "name": "dataset_id",
         "rawType": "object",
         "type": "string"
        },
        {
         "name": "type",
         "rawType": "object",
         "type": "string"
        },
        {
         "name": "dataset_id_norm",
         "rawType": "object",
         "type": "string"
        }
       ],
       "ref": "a3713913-e9e9-4998-8aa2-4f28a5add953",
       "rows": [
        [
         "0",
         "10.1002_2017jc013030",
         "train",
         "./kaggle/input/make-data-count-finding-data-references/train\\PDF\\10.1002_2017jc013030.pdf",
         "./kaggle/input/make-data-count-finding-data-references/train\\XML\\10.1002_2017jc013030.xml",
         "https://doi.org/10.17882/49388",
         "Primary",
         "10.17882/49388"
        ],
        [
         "1",
         "10.1002_ece3.4466",
         "train",
         "./kaggle/input/make-data-count-finding-data-references/train\\PDF\\10.1002_ece3.4466.pdf",
         "./kaggle/input/make-data-count-finding-data-references/train\\XML\\10.1002_ece3.4466.xml",
         "https://doi.org/10.5061/dryad.r6nq870",
         "Primary",
         "10.5061/dryad.r6nq8"
        ],
        [
         "2",
         "10.1002_ece3.5260",
         "train",
         "./kaggle/input/make-data-count-finding-data-references/train\\PDF\\10.1002_ece3.5260.pdf",
         "./kaggle/input/make-data-count-finding-data-references/train\\XML\\10.1002_ece3.5260.xml",
         "https://doi.org/10.5061/dryad.2f62927",
         "Primary",
         "10.5061/dryad.2f629"
        ],
        [
         "3",
         "10.1002_ece3.6144",
         "train",
         "./kaggle/input/make-data-count-finding-data-references/train\\PDF\\10.1002_ece3.6144.pdf",
         "./kaggle/input/make-data-count-finding-data-references/train\\XML\\10.1002_ece3.6144.xml",
         "https://doi.org/10.5061/dryad.zw3r22854",
         "Primary",
         "10.5061/dryad.zw3r2"
        ],
        [
         "4",
         "10.1002_ece3.6303",
         "train",
         "./kaggle/input/make-data-count-finding-data-references/train\\PDF\\10.1002_ece3.6303.pdf",
         "./kaggle/input/make-data-count-finding-data-references/train\\XML\\10.1002_ece3.6303.xml",
         "https://doi.org/10.5061/dryad.37pvmcvgb",
         "Primary",
         "10.5061/dryad.37pvm"
        ],
        [
         "5",
         "10.1002_ece3.9627",
         "train",
         "./kaggle/input/make-data-count-finding-data-references/train\\PDF\\10.1002_ece3.9627.pdf",
         "./kaggle/input/make-data-count-finding-data-references/train\\XML\\10.1002_ece3.9627.xml",
         "https://doi.org/10.5061/dryad.b8gtht7h3",
         "Primary",
         "10.5061/dryad.b8gth"
        ],
        [
         "6",
         "10.1002_ecs2.1280",
         "train",
         "./kaggle/input/make-data-count-finding-data-references/train\\PDF\\10.1002_ecs2.1280.pdf",
         null,
         "https://doi.org/10.5061/dryad.p3fg9",
         "Primary",
         "10.5061/dryad.p3fg9"
        ],
        [
         "7",
         "10.1002_ecs2.4619",
         "train",
         "./kaggle/input/make-data-count-finding-data-references/train\\PDF\\10.1002_ecs2.4619.pdf",
         "./kaggle/input/make-data-count-finding-data-references/train\\XML\\10.1002_ecs2.4619.xml",
         "https://doi.org/10.25349/d9qw5x",
         "Primary",
         "10.25349/d9qw5x"
        ],
        [
         "8",
         "10.1002_esp.5058",
         "train",
         "./kaggle/input/make-data-count-finding-data-references/train\\PDF\\10.1002_esp.5058.pdf",
         null,
         "https://doi.org/10.5061/dryad.jh9w0vt9t",
         "Primary",
         "10.5061/dryad.jh9w0"
        ],
        [
         "9",
         "10.1002_esp.5090",
         "train",
         "./kaggle/input/make-data-count-finding-data-references/train\\PDF\\10.1002_esp.5090.pdf",
         "./kaggle/input/make-data-count-finding-data-references/train\\XML\\10.1002_esp.5090.xml",
         "https://doi.org/10.5066/p9353101",
         "Secondary",
         "10.5066/p9353101"
        ],
        [
         "10",
         "10.1002_mp.14424",
         "train",
         "./kaggle/input/make-data-count-finding-data-references/train\\PDF\\10.1002_mp.14424.pdf",
         "./kaggle/input/make-data-count-finding-data-references/train\\XML\\10.1002_mp.14424.xml",
         "https://doi.org/10.7937/k9/tcia.2015.pf0m9rei",
         "Secondary",
         "10.7937/k9/tcia.2015.pf0m9rei"
        ],
        [
         "11",
         "10.1002_mp.14424",
         "train",
         "./kaggle/input/make-data-count-finding-data-references/train\\PDF\\10.1002_mp.14424.pdf",
         "./kaggle/input/make-data-count-finding-data-references/train\\XML\\10.1002_mp.14424.xml",
         "https://doi.org/10.7937/tcia.2020.6c7y-gq39",
         "Primary",
         "10.7937/tcia.2020.6c7y-gq39"
        ],
        [
         "12",
         "10.1002_nafm.10870",
         "train",
         "./kaggle/input/make-data-count-finding-data-references/train\\PDF\\10.1002_nafm.10870.pdf",
         null,
         "https://doi.org/10.5066/p9gtumay",
         "Primary",
         "10.5066/p9gtumay"
        ],
        [
         "13",
         "10.1007_s00259-022-06053-8",
         "train",
         "./kaggle/input/make-data-count-finding-data-references/train\\PDF\\10.1007_s00259-022-06053-8.pdf",
         "./kaggle/input/make-data-count-finding-data-references/train\\XML\\10.1007_s00259-022-06053-8.xml",
         "https://doi.org/10.7937/k9/tcia.2017.7hs46erv",
         "Secondary",
         "10.7937/k9/tcia.2017.7hs46erv"
        ],
        [
         "14",
         "10.1007_s00259-022-06053-8",
         "train",
         "./kaggle/input/make-data-count-finding-data-references/train\\PDF\\10.1007_s00259-022-06053-8.pdf",
         "./kaggle/input/make-data-count-finding-data-references/train\\XML\\10.1007_s00259-022-06053-8.xml",
         "https://doi.org/10.7937/tcia.2019.30ilqfcl",
         "Secondary",
         "10.7937/tcia.2019.30ilqfcl"
        ],
        [
         "15",
         "10.1007_s00382-022-06361-7",
         "train",
         "./kaggle/input/make-data-count-finding-data-references/train\\PDF\\10.1007_s00382-022-06361-7.pdf",
         "./kaggle/input/make-data-count-finding-data-references/train\\XML\\10.1007_s00382-022-06361-7.xml",
         "https://doi.org/10.6075/j0154fjj",
         "Primary",
         "10.6075/j0154fjj"
        ],
        [
         "16",
         "10.1007_s00382-022-06361-7",
         "train",
         "./kaggle/input/make-data-count-finding-data-references/train\\PDF\\10.1007_s00382-022-06361-7.pdf",
         "./kaggle/input/make-data-count-finding-data-references/train\\XML\\10.1007_s00382-022-06361-7.xml",
         "https://doi.org/10.6075/j089161b",
         "Primary",
         "10.6075/j089161b"
        ],
        [
         "17",
         "10.1007_s00442-022-05201-z",
         "train",
         "./kaggle/input/make-data-count-finding-data-references/train\\PDF\\10.1007_s00442-022-05201-z.pdf",
         "./kaggle/input/make-data-count-finding-data-references/train\\XML\\10.1007_s00442-022-05201-z.xml",
         "https://doi.org/10.5061/dryad.wpzgmsbps",
         "Primary",
         "10.5061/dryad.wpzgm"
        ],
        [
         "18",
         "10.1007_s12559-020-09751-3",
         "train",
         "./kaggle/input/make-data-count-finding-data-references/train\\PDF\\10.1007_s12559-020-09751-3.pdf",
         "./kaggle/input/make-data-count-finding-data-references/train\\XML\\10.1007_s12559-020-09751-3.xml",
         "https://doi.org/10.7937/k9/tcia.2015.u1x8a5nr",
         "Secondary",
         "10.7937/k9/tcia.2015.u1x8a5nr"
        ],
        [
         "19",
         "10.1016_j.ast.2022.107401",
         "train",
         "./kaggle/input/make-data-count-finding-data-references/train\\PDF\\10.1016_j.ast.2022.107401.pdf",
         "./kaggle/input/make-data-count-finding-data-references/train\\XML\\10.1016_j.ast.2022.107401.xml",
         "https://doi.org/10.17862/cranfield.rd.19146182",
         "Primary",
         "10.17862/cranfield.rd.19146182"
        ],
        [
         "20",
         "10.1016_j.ast.2022.107401",
         "train",
         "./kaggle/input/make-data-count-finding-data-references/train\\PDF\\10.1016_j.ast.2022.107401.pdf",
         "./kaggle/input/make-data-count-finding-data-references/train\\XML\\10.1016_j.ast.2022.107401.xml",
         "https://doi.org/10.17862/cranfield.rd.19146182.v1",
         "Primary",
         "10.17862/cranfield.rd.19146182.v1"
        ],
        [
         "21",
         "10.1016_j.cpc.2024.109087",
         "train",
         "./kaggle/input/make-data-count-finding-data-references/train\\PDF\\10.1016_j.cpc.2024.109087.pdf",
         "./kaggle/input/make-data-count-finding-data-references/train\\XML\\10.1016_j.cpc.2024.109087.xml",
         "https://doi.org/10.17632/9gr6pxhfjm",
         "Primary",
         "10.17632/9gr6pxhfjm"
        ],
        [
         "22",
         "10.1016_j.dib.2022.108797",
         "train",
         "./kaggle/input/make-data-count-finding-data-references/train\\PDF\\10.1016_j.dib.2022.108797.pdf",
         "./kaggle/input/make-data-count-finding-data-references/train\\XML\\10.1016_j.dib.2022.108797.xml",
         "https://doi.org/10.1594/pangaea.949117",
         "Primary",
         "10.1594/pangaea.949117"
        ],
        [
         "23",
         "10.1016_j.dib.2023.109949",
         "train",
         "./kaggle/input/make-data-count-finding-data-references/train\\PDF\\10.1016_j.dib.2023.109949.pdf",
         "./kaggle/input/make-data-count-finding-data-references/train\\XML\\10.1016_j.dib.2023.109949.xml",
         "https://doi.org/10.5281/zenodo.8338991",
         "Primary",
         "10.5281/zenodo.8338991"
        ],
        [
         "24",
         "10.1016_j.ecolind.2021.107934",
         "train",
         "./kaggle/input/make-data-count-finding-data-references/train\\PDF\\10.1016_j.ecolind.2021.107934.pdf",
         "./kaggle/input/make-data-count-finding-data-references/train\\XML\\10.1016_j.ecolind.2021.107934.xml",
         "https://doi.org/10.6073/pasta/be42bb841e696b7bcad9957aed33db5e",
         "Secondary",
         "10.6073/pasta/be42bb841e696b7bcad9957aed33db5e"
        ],
        [
         "25",
         "10.1016_j.fuel.2022.125768",
         "train",
         "./kaggle/input/make-data-count-finding-data-references/train\\PDF\\10.1016_j.fuel.2022.125768.pdf",
         null,
         "https://doi.org/10.11583/dtu.20555586",
         "Primary",
         "10.11583/dtu.20555586"
        ],
        [
         "26",
         "10.1016_j.fuel.2022.125768",
         "train",
         "./kaggle/input/make-data-count-finding-data-references/train\\PDF\\10.1016_j.fuel.2022.125768.pdf",
         null,
         "https://doi.org/10.11583/dtu.20555586.v3",
         "Primary",
         "10.11583/dtu.20555586.v3"
        ],
        [
         "27",
         "10.1016_j.jlp.2022.104761",
         "train",
         "./kaggle/input/make-data-count-finding-data-references/train\\PDF\\10.1016_j.jlp.2022.104761.pdf",
         null,
         "https://doi.org/10.23642/usn.15134442",
         "Primary",
         "10.23642/usn.15134442"
        ],
        [
         "28",
         "10.1016_j.jlp.2022.104761",
         "train",
         "./kaggle/input/make-data-count-finding-data-references/train\\PDF\\10.1016_j.jlp.2022.104761.pdf",
         null,
         "https://doi.org/10.23642/usn.15134442.v1",
         "Primary",
         "10.23642/usn.15134442.v1"
        ],
        [
         "29",
         "10.1016_j.jobe.2023.107105",
         "train",
         "./kaggle/input/make-data-count-finding-data-references/train\\PDF\\10.1016_j.jobe.2023.107105.pdf",
         "./kaggle/input/make-data-count-finding-data-references/train\\XML\\10.1016_j.jobe.2023.107105.xml",
         "https://doi.org/10.5281/zenodo.8014149",
         "Primary",
         "10.5281/zenodo.8014149"
        ],
        [
         "30",
         "10.1016_j.jobe.2023.107105",
         "train",
         "./kaggle/input/make-data-count-finding-data-references/train\\PDF\\10.1016_j.jobe.2023.107105.pdf",
         "./kaggle/input/make-data-count-finding-data-references/train\\XML\\10.1016_j.jobe.2023.107105.xml",
         "https://doi.org/10.5281/zenodo.8014150",
         "Primary",
         "10.5281/zenodo.8014150"
        ],
        [
         "31",
         "10.1016_j.jsames.2022.103824",
         "train",
         "./kaggle/input/make-data-count-finding-data-references/train\\PDF\\10.1016_j.jsames.2022.103824.pdf",
         null,
         "https://doi.org/10.5066/f7k072r7",
         "Primary",
         "10.5066/f7k072r7"
        ],
        [
         "32",
         "10.1016_j.molcel.2018.11.006",
         "train",
         "./kaggle/input/make-data-count-finding-data-references/train\\PDF\\10.1016_j.molcel.2018.11.006.pdf",
         "./kaggle/input/make-data-count-finding-data-references/train\\XML\\10.1016_j.molcel.2018.11.006.xml",
         "https://doi.org/10.17632/jb4jjxsbb7.1",
         "Primary",
         "10.17632/jb4jjxsbb7.1"
        ],
        [
         "33",
         "10.1016_j.molcel.2018.11.006",
         "train",
         "./kaggle/input/make-data-count-finding-data-references/train\\PDF\\10.1016_j.molcel.2018.11.006.pdf",
         "./kaggle/input/make-data-count-finding-data-references/train\\XML\\10.1016_j.molcel.2018.11.006.xml",
         "https://doi.org/10.17632/xtb4mkvf8f.1",
         "Primary",
         "10.17632/xtb4mkvf8f.1"
        ],
        [
         "34",
         "10.1016_j.scitotenv.2024.171850",
         "train",
         "./kaggle/input/make-data-count-finding-data-references/train\\PDF\\10.1016_j.scitotenv.2024.171850.pdf",
         "./kaggle/input/make-data-count-finding-data-references/train\\XML\\10.1016_j.scitotenv.2024.171850.xml",
         "https://doi.org/10.17863/cam.107163",
         "Primary",
         "10.17863/cam.107163"
        ],
        [
         "35",
         "10.1016_j.websem.2024.100815",
         "train",
         "./kaggle/input/make-data-count-finding-data-references/train\\PDF\\10.1016_j.websem.2024.100815.pdf",
         null,
         "https://doi.org/10.17863/cam.82548",
         "Primary",
         "10.17863/cam.82548"
        ],
        [
         "36",
         "10.1017_rdc.2022.19",
         "train",
         "./kaggle/input/make-data-count-finding-data-references/train\\PDF\\10.1017_rdc.2022.19.pdf",
         null,
         "https://doi.org/10.11588/data/10100",
         "Secondary",
         "10.11588/data/10100"
        ],
        [
         "37",
         "10.1017_s0007123423000601",
         "train",
         "./kaggle/input/make-data-count-finding-data-references/train\\PDF\\10.1017_s0007123423000601.pdf",
         "./kaggle/input/make-data-count-finding-data-references/train\\XML\\10.1017_s0007123423000601.xml",
         "https://doi.org/10.7910/dvn/fwckse",
         "Primary",
         "10.7910/dvn/fwckse"
        ],
        [
         "38",
         "10.1021_acs.jcim.9b01185",
         "train",
         "./kaggle/input/make-data-count-finding-data-references/train\\PDF\\10.1021_acs.jcim.9b01185.pdf",
         null,
         "https://doi.org/10.5281/zenodo.3667633",
         "Primary",
         "10.5281/zenodo.3667633"
        ],
        [
         "39",
         "10.1021_acscentsci.1c01109",
         "train",
         "./kaggle/input/make-data-count-finding-data-references/train\\PDF\\10.1021_acscentsci.1c01109.pdf",
         "./kaggle/input/make-data-count-finding-data-references/train\\XML\\10.1021_acscentsci.1c01109.xml",
         "https://doi.org/10.21942/uva.17040392",
         "Primary",
         "10.21942/uva.17040392"
        ],
        [
         "40",
         "10.1021_acsomega.3c06074",
         "train",
         "./kaggle/input/make-data-count-finding-data-references/train\\PDF\\10.1021_acsomega.3c06074.pdf",
         "./kaggle/input/make-data-count-finding-data-references/train\\XML\\10.1021_acsomega.3c06074.xml",
         "5VA1",
         "Secondary",
         "5VA1"
        ],
        [
         "41",
         "10.1021_acsomega.3c06074",
         "train",
         "./kaggle/input/make-data-count-finding-data-references/train\\PDF\\10.1021_acsomega.3c06074.pdf",
         "./kaggle/input/make-data-count-finding-data-references/train\\XML\\10.1021_acsomega.3c06074.xml",
         "CHEMBL1097",
         "Secondary",
         "CHEMBL1097"
        ],
        [
         "42",
         "10.1021_acsomega.3c06074",
         "train",
         "./kaggle/input/make-data-count-finding-data-references/train\\PDF\\10.1021_acsomega.3c06074.pdf",
         "./kaggle/input/make-data-count-finding-data-references/train\\XML\\10.1021_acsomega.3c06074.xml",
         "CHEMBL1257578",
         "Secondary",
         "CHEMBL1257578"
        ],
        [
         "43",
         "10.1021_acsomega.3c06074",
         "train",
         "./kaggle/input/make-data-count-finding-data-references/train\\PDF\\10.1021_acsomega.3c06074.pdf",
         "./kaggle/input/make-data-count-finding-data-references/train\\XML\\10.1021_acsomega.3c06074.xml",
         "CHEMBL1257821",
         "Secondary",
         "CHEMBL1257821"
        ],
        [
         "44",
         "10.1021_acsomega.3c06074",
         "train",
         "./kaggle/input/make-data-count-finding-data-references/train\\PDF\\10.1021_acsomega.3c06074.pdf",
         "./kaggle/input/make-data-count-finding-data-references/train\\XML\\10.1021_acsomega.3c06074.xml",
         "CHEMBL1782574",
         "Secondary",
         "CHEMBL1782574"
        ],
        [
         "45",
         "10.1021_acsomega.3c06074",
         "train",
         "./kaggle/input/make-data-count-finding-data-references/train\\PDF\\10.1021_acsomega.3c06074.pdf",
         "./kaggle/input/make-data-count-finding-data-references/train\\XML\\10.1021_acsomega.3c06074.xml",
         "CHEMBL195180",
         "Secondary",
         "CHEMBL195180"
        ],
        [
         "46",
         "10.1021_acsomega.3c06074",
         "train",
         "./kaggle/input/make-data-count-finding-data-references/train\\PDF\\10.1021_acsomega.3c06074.pdf",
         "./kaggle/input/make-data-count-finding-data-references/train\\XML\\10.1021_acsomega.3c06074.xml",
         "CHEMBL2424928",
         "Secondary",
         "CHEMBL2424928"
        ],
        [
         "47",
         "10.1021_acsomega.3c06074",
         "train",
         "./kaggle/input/make-data-count-finding-data-references/train\\PDF\\10.1021_acsomega.3c06074.pdf",
         "./kaggle/input/make-data-count-finding-data-references/train\\XML\\10.1021_acsomega.3c06074.xml",
         "CHEMBL3422978",
         "Secondary",
         "CHEMBL3422978"
        ],
        [
         "48",
         "10.1021_acsomega.3c06074",
         "train",
         "./kaggle/input/make-data-count-finding-data-references/train\\PDF\\10.1021_acsomega.3c06074.pdf",
         "./kaggle/input/make-data-count-finding-data-references/train\\XML\\10.1021_acsomega.3c06074.xml",
         "CHEMBL390649",
         "Secondary",
         "CHEMBL390649"
        ],
        [
         "49",
         "10.1021_acsomega.3c06074",
         "train",
         "./kaggle/input/make-data-count-finding-data-references/train\\PDF\\10.1021_acsomega.3c06074.pdf",
         "./kaggle/input/make-data-count-finding-data-references/train\\XML\\10.1021_acsomega.3c06074.xml",
         "CHEMBL572163",
         "Secondary",
         "CHEMBL572163"
        ]
       ],
       "shape": {
        "columns": 7,
        "rows": 719
       }
      },
      "text/html": [
       "<div>\n",
       "<style scoped>\n",
       "    .dataframe tbody tr th:only-of-type {\n",
       "        vertical-align: middle;\n",
       "    }\n",
       "\n",
       "    .dataframe tbody tr th {\n",
       "        vertical-align: top;\n",
       "    }\n",
       "\n",
       "    .dataframe thead th {\n",
       "        text-align: right;\n",
       "    }\n",
       "</style>\n",
       "<table border=\"1\" class=\"dataframe\">\n",
       "  <thead>\n",
       "    <tr style=\"text-align: right;\">\n",
       "      <th></th>\n",
       "      <th>article_id</th>\n",
       "      <th>data_type_name</th>\n",
       "      <th>article_file_path_pdf</th>\n",
       "      <th>article_file_path_xml</th>\n",
       "      <th>dataset_id</th>\n",
       "      <th>type</th>\n",
       "      <th>dataset_id_norm</th>\n",
       "    </tr>\n",
       "  </thead>\n",
       "  <tbody>\n",
       "    <tr>\n",
       "      <th>0</th>\n",
       "      <td>10.1002_2017jc013030</td>\n",
       "      <td>train</td>\n",
       "      <td>./kaggle/input/make-data-count-finding-data-re...</td>\n",
       "      <td>./kaggle/input/make-data-count-finding-data-re...</td>\n",
       "      <td>https://doi.org/10.17882/49388</td>\n",
       "      <td>Primary</td>\n",
       "      <td>10.17882/49388</td>\n",
       "    </tr>\n",
       "    <tr>\n",
       "      <th>1</th>\n",
       "      <td>10.1002_ece3.4466</td>\n",
       "      <td>train</td>\n",
       "      <td>./kaggle/input/make-data-count-finding-data-re...</td>\n",
       "      <td>./kaggle/input/make-data-count-finding-data-re...</td>\n",
       "      <td>https://doi.org/10.5061/dryad.r6nq870</td>\n",
       "      <td>Primary</td>\n",
       "      <td>10.5061/dryad.r6nq8</td>\n",
       "    </tr>\n",
       "    <tr>\n",
       "      <th>2</th>\n",
       "      <td>10.1002_ece3.5260</td>\n",
       "      <td>train</td>\n",
       "      <td>./kaggle/input/make-data-count-finding-data-re...</td>\n",
       "      <td>./kaggle/input/make-data-count-finding-data-re...</td>\n",
       "      <td>https://doi.org/10.5061/dryad.2f62927</td>\n",
       "      <td>Primary</td>\n",
       "      <td>10.5061/dryad.2f629</td>\n",
       "    </tr>\n",
       "    <tr>\n",
       "      <th>3</th>\n",
       "      <td>10.1002_ece3.6144</td>\n",
       "      <td>train</td>\n",
       "      <td>./kaggle/input/make-data-count-finding-data-re...</td>\n",
       "      <td>./kaggle/input/make-data-count-finding-data-re...</td>\n",
       "      <td>https://doi.org/10.5061/dryad.zw3r22854</td>\n",
       "      <td>Primary</td>\n",
       "      <td>10.5061/dryad.zw3r2</td>\n",
       "    </tr>\n",
       "    <tr>\n",
       "      <th>4</th>\n",
       "      <td>10.1002_ece3.6303</td>\n",
       "      <td>train</td>\n",
       "      <td>./kaggle/input/make-data-count-finding-data-re...</td>\n",
       "      <td>./kaggle/input/make-data-count-finding-data-re...</td>\n",
       "      <td>https://doi.org/10.5061/dryad.37pvmcvgb</td>\n",
       "      <td>Primary</td>\n",
       "      <td>10.5061/dryad.37pvm</td>\n",
       "    </tr>\n",
       "    <tr>\n",
       "      <th>...</th>\n",
       "      <td>...</td>\n",
       "      <td>...</td>\n",
       "      <td>...</td>\n",
       "      <td>...</td>\n",
       "      <td>...</td>\n",
       "      <td>...</td>\n",
       "      <td>...</td>\n",
       "    </tr>\n",
       "    <tr>\n",
       "      <th>714</th>\n",
       "      <td>10.7717_peerj.12422</td>\n",
       "      <td>train</td>\n",
       "      <td>./kaggle/input/make-data-count-finding-data-re...</td>\n",
       "      <td>./kaggle/input/make-data-count-finding-data-re...</td>\n",
       "      <td>https://doi.org/10.15468/dl.t3h8b4</td>\n",
       "      <td>Secondary</td>\n",
       "      <td>10.15468/dl.t3h8b4</td>\n",
       "    </tr>\n",
       "    <tr>\n",
       "      <th>715</th>\n",
       "      <td>10.7717_peerj.12422</td>\n",
       "      <td>train</td>\n",
       "      <td>./kaggle/input/make-data-count-finding-data-re...</td>\n",
       "      <td>./kaggle/input/make-data-count-finding-data-re...</td>\n",
       "      <td>https://doi.org/10.15468/dl.yak5vd</td>\n",
       "      <td>Secondary</td>\n",
       "      <td>10.15468/dl.yak5vd</td>\n",
       "    </tr>\n",
       "    <tr>\n",
       "      <th>716</th>\n",
       "      <td>10.7717_peerj.13193</td>\n",
       "      <td>train</td>\n",
       "      <td>./kaggle/input/make-data-count-finding-data-re...</td>\n",
       "      <td>./kaggle/input/make-data-count-finding-data-re...</td>\n",
       "      <td>https://doi.org/10.6073/pasta/02e2764efb408a8b...</td>\n",
       "      <td>Secondary</td>\n",
       "      <td>10.6073/pasta/02e2764efb408a8b66b7f486eac14dc0</td>\n",
       "    </tr>\n",
       "    <tr>\n",
       "      <th>717</th>\n",
       "      <td>10.7717_peerj.13193</td>\n",
       "      <td>train</td>\n",
       "      <td>./kaggle/input/make-data-count-finding-data-re...</td>\n",
       "      <td>./kaggle/input/make-data-count-finding-data-re...</td>\n",
       "      <td>https://doi.org/10.6073/pasta/275ad28a2f31356c...</td>\n",
       "      <td>Secondary</td>\n",
       "      <td>10.6073/pasta/275ad28a2f31356cf9c2648531a16a2b</td>\n",
       "    </tr>\n",
       "    <tr>\n",
       "      <th>718</th>\n",
       "      <td>10.7717_peerj.13193</td>\n",
       "      <td>train</td>\n",
       "      <td>./kaggle/input/make-data-count-finding-data-re...</td>\n",
       "      <td>./kaggle/input/make-data-count-finding-data-re...</td>\n",
       "      <td>https://doi.org/10.6073/pasta/b23deb8e1ccf1c14...</td>\n",
       "      <td>Primary</td>\n",
       "      <td>10.6073/pasta/b23deb8e1ccf1c1413382bf911c6be19</td>\n",
       "    </tr>\n",
       "  </tbody>\n",
       "</table>\n",
       "<p>719 rows × 7 columns</p>\n",
       "</div>"
      ],
      "text/plain": [
       "               article_id data_type_name  \\\n",
       "0    10.1002_2017jc013030          train   \n",
       "1       10.1002_ece3.4466          train   \n",
       "2       10.1002_ece3.5260          train   \n",
       "3       10.1002_ece3.6144          train   \n",
       "4       10.1002_ece3.6303          train   \n",
       "..                    ...            ...   \n",
       "714   10.7717_peerj.12422          train   \n",
       "715   10.7717_peerj.12422          train   \n",
       "716   10.7717_peerj.13193          train   \n",
       "717   10.7717_peerj.13193          train   \n",
       "718   10.7717_peerj.13193          train   \n",
       "\n",
       "                                 article_file_path_pdf  \\\n",
       "0    ./kaggle/input/make-data-count-finding-data-re...   \n",
       "1    ./kaggle/input/make-data-count-finding-data-re...   \n",
       "2    ./kaggle/input/make-data-count-finding-data-re...   \n",
       "3    ./kaggle/input/make-data-count-finding-data-re...   \n",
       "4    ./kaggle/input/make-data-count-finding-data-re...   \n",
       "..                                                 ...   \n",
       "714  ./kaggle/input/make-data-count-finding-data-re...   \n",
       "715  ./kaggle/input/make-data-count-finding-data-re...   \n",
       "716  ./kaggle/input/make-data-count-finding-data-re...   \n",
       "717  ./kaggle/input/make-data-count-finding-data-re...   \n",
       "718  ./kaggle/input/make-data-count-finding-data-re...   \n",
       "\n",
       "                                 article_file_path_xml  \\\n",
       "0    ./kaggle/input/make-data-count-finding-data-re...   \n",
       "1    ./kaggle/input/make-data-count-finding-data-re...   \n",
       "2    ./kaggle/input/make-data-count-finding-data-re...   \n",
       "3    ./kaggle/input/make-data-count-finding-data-re...   \n",
       "4    ./kaggle/input/make-data-count-finding-data-re...   \n",
       "..                                                 ...   \n",
       "714  ./kaggle/input/make-data-count-finding-data-re...   \n",
       "715  ./kaggle/input/make-data-count-finding-data-re...   \n",
       "716  ./kaggle/input/make-data-count-finding-data-re...   \n",
       "717  ./kaggle/input/make-data-count-finding-data-re...   \n",
       "718  ./kaggle/input/make-data-count-finding-data-re...   \n",
       "\n",
       "                                            dataset_id       type  \\\n",
       "0                       https://doi.org/10.17882/49388    Primary   \n",
       "1                https://doi.org/10.5061/dryad.r6nq870    Primary   \n",
       "2                https://doi.org/10.5061/dryad.2f62927    Primary   \n",
       "3              https://doi.org/10.5061/dryad.zw3r22854    Primary   \n",
       "4              https://doi.org/10.5061/dryad.37pvmcvgb    Primary   \n",
       "..                                                 ...        ...   \n",
       "714                 https://doi.org/10.15468/dl.t3h8b4  Secondary   \n",
       "715                 https://doi.org/10.15468/dl.yak5vd  Secondary   \n",
       "716  https://doi.org/10.6073/pasta/02e2764efb408a8b...  Secondary   \n",
       "717  https://doi.org/10.6073/pasta/275ad28a2f31356c...  Secondary   \n",
       "718  https://doi.org/10.6073/pasta/b23deb8e1ccf1c14...    Primary   \n",
       "\n",
       "                                    dataset_id_norm  \n",
       "0                                    10.17882/49388  \n",
       "1                               10.5061/dryad.r6nq8  \n",
       "2                               10.5061/dryad.2f629  \n",
       "3                               10.5061/dryad.zw3r2  \n",
       "4                               10.5061/dryad.37pvm  \n",
       "..                                              ...  \n",
       "714                              10.15468/dl.t3h8b4  \n",
       "715                              10.15468/dl.yak5vd  \n",
       "716  10.6073/pasta/02e2764efb408a8b66b7f486eac14dc0  \n",
       "717  10.6073/pasta/275ad28a2f31356cf9c2648531a16a2b  \n",
       "718  10.6073/pasta/b23deb8e1ccf1c1413382bf911c6be19  \n",
       "\n",
       "[719 rows x 7 columns]"
      ]
     },
     "execution_count": 290,
     "metadata": {},
     "output_type": "execute_result"
    }
   ],
   "source": [
    "train_df = merge_articles_and_files('train')\n",
    "train_df"
   ]
  },
  {
   "cell_type": "code",
   "execution_count": 291,
   "metadata": {
    "execution": {
     "iopub.execute_input": "2025-06-18T17:53:23.571038Z",
     "iopub.status.busy": "2025-06-18T17:53:23.570733Z",
     "iopub.status.idle": "2025-06-18T17:53:23.577516Z",
     "shell.execute_reply": "2025-06-18T17:53:23.576662Z",
     "shell.execute_reply.started": "2025-06-18T17:53:23.571015Z"
    },
    "trusted": true
   },
   "outputs": [
    {
     "name": "stdout",
     "output_type": "stream",
     "text": [
      "unique articles: 214\n",
      "unique datasets: 719\n"
     ]
    }
   ],
   "source": [
    "# Number of unique training articles and datasets\n",
    "print(f\"unique articles: {train_df['article_id'].nunique()}\")\n",
    "print(f\"unique datasets: {train_df['dataset_id'].nunique()}\")"
   ]
  },
  {
   "cell_type": "code",
   "execution_count": 292,
   "metadata": {},
   "outputs": [
    {
     "data": {
      "application/vnd.microsoft.datawrangler.viewer.v0+json": {
       "columns": [
        {
         "name": "index",
         "rawType": "int64",
         "type": "integer"
        },
        {
         "name": "article_id",
         "rawType": "object",
         "type": "string"
        },
        {
         "name": "data_type_name",
         "rawType": "object",
         "type": "string"
        },
        {
         "name": "article_file_path_pdf",
         "rawType": "object",
         "type": "string"
        },
        {
         "name": "article_file_path_xml",
         "rawType": "object",
         "type": "unknown"
        },
        {
         "name": "dataset_id",
         "rawType": "object",
         "type": "string"
        },
        {
         "name": "type",
         "rawType": "object",
         "type": "string"
        },
        {
         "name": "dataset_id_norm",
         "rawType": "object",
         "type": "string"
        }
       ],
       "ref": "76154463-4910-4398-888d-93e290c063f5",
       "rows": [
        [
         "0",
         "10.1002_2017jc013030",
         "test",
         "./kaggle/input/make-data-count-finding-data-references/test\\PDF\\10.1002_2017jc013030.pdf",
         "./kaggle/input/make-data-count-finding-data-references/test\\XML\\10.1002_2017jc013030.xml",
         "https://doi.org/10.17882/49388",
         "Primary",
         "10.17882/49388"
        ],
        [
         "1",
         "10.1002_ece3.4466",
         "test",
         "./kaggle/input/make-data-count-finding-data-references/test\\PDF\\10.1002_ece3.4466.pdf",
         "./kaggle/input/make-data-count-finding-data-references/test\\XML\\10.1002_ece3.4466.xml",
         "https://doi.org/10.5061/dryad.r6nq870",
         "Primary",
         "10.5061/dryad.r6nq8"
        ],
        [
         "2",
         "10.1002_ece3.5260",
         "test",
         "./kaggle/input/make-data-count-finding-data-references/test\\PDF\\10.1002_ece3.5260.pdf",
         "./kaggle/input/make-data-count-finding-data-references/test\\XML\\10.1002_ece3.5260.xml",
         "https://doi.org/10.5061/dryad.2f62927",
         "Primary",
         "10.5061/dryad.2f629"
        ],
        [
         "3",
         "10.1002_ece3.6144",
         "test",
         "./kaggle/input/make-data-count-finding-data-references/test\\PDF\\10.1002_ece3.6144.pdf",
         "./kaggle/input/make-data-count-finding-data-references/test\\XML\\10.1002_ece3.6144.xml",
         "https://doi.org/10.5061/dryad.zw3r22854",
         "Primary",
         "10.5061/dryad.zw3r2"
        ],
        [
         "4",
         "10.1002_ece3.6303",
         "test",
         "./kaggle/input/make-data-count-finding-data-references/test\\PDF\\10.1002_ece3.6303.pdf",
         "./kaggle/input/make-data-count-finding-data-references/test\\XML\\10.1002_ece3.6303.xml",
         "https://doi.org/10.5061/dryad.37pvmcvgb",
         "Primary",
         "10.5061/dryad.37pvm"
        ],
        [
         "5",
         "10.1002_ece3.9627",
         "test",
         "./kaggle/input/make-data-count-finding-data-references/test\\PDF\\10.1002_ece3.9627.pdf",
         "./kaggle/input/make-data-count-finding-data-references/test\\XML\\10.1002_ece3.9627.xml",
         "https://doi.org/10.5061/dryad.b8gtht7h3",
         "Primary",
         "10.5061/dryad.b8gth"
        ],
        [
         "6",
         "10.1002_ecs2.1280",
         "test",
         "./kaggle/input/make-data-count-finding-data-references/test\\PDF\\10.1002_ecs2.1280.pdf",
         null,
         "https://doi.org/10.5061/dryad.p3fg9",
         "Primary",
         "10.5061/dryad.p3fg9"
        ],
        [
         "7",
         "10.1002_ecs2.4619",
         "test",
         "./kaggle/input/make-data-count-finding-data-references/test\\PDF\\10.1002_ecs2.4619.pdf",
         "./kaggle/input/make-data-count-finding-data-references/test\\XML\\10.1002_ecs2.4619.xml",
         "https://doi.org/10.25349/d9qw5x",
         "Primary",
         "10.25349/d9qw5x"
        ],
        [
         "8",
         "10.1002_esp.5058",
         "test",
         "./kaggle/input/make-data-count-finding-data-references/test\\PDF\\10.1002_esp.5058.pdf",
         null,
         "https://doi.org/10.5061/dryad.jh9w0vt9t",
         "Primary",
         "10.5061/dryad.jh9w0"
        ],
        [
         "9",
         "10.1002_esp.5090",
         "test",
         "./kaggle/input/make-data-count-finding-data-references/test\\PDF\\10.1002_esp.5090.pdf",
         "./kaggle/input/make-data-count-finding-data-references/test\\XML\\10.1002_esp.5090.xml",
         "https://doi.org/10.5066/p9353101",
         "Secondary",
         "10.5066/p9353101"
        ],
        [
         "10",
         "10.1002_mp.14424",
         "test",
         "./kaggle/input/make-data-count-finding-data-references/test\\PDF\\10.1002_mp.14424.pdf",
         "./kaggle/input/make-data-count-finding-data-references/test\\XML\\10.1002_mp.14424.xml",
         "https://doi.org/10.7937/k9/tcia.2015.pf0m9rei",
         "Secondary",
         "10.7937/k9/tcia.2015.pf0m9rei"
        ],
        [
         "11",
         "10.1002_mp.14424",
         "test",
         "./kaggle/input/make-data-count-finding-data-references/test\\PDF\\10.1002_mp.14424.pdf",
         "./kaggle/input/make-data-count-finding-data-references/test\\XML\\10.1002_mp.14424.xml",
         "https://doi.org/10.7937/tcia.2020.6c7y-gq39",
         "Primary",
         "10.7937/tcia.2020.6c7y-gq39"
        ],
        [
         "12",
         "10.1002_nafm.10870",
         "test",
         "./kaggle/input/make-data-count-finding-data-references/test\\PDF\\10.1002_nafm.10870.pdf",
         null,
         "https://doi.org/10.5066/p9gtumay",
         "Primary",
         "10.5066/p9gtumay"
        ]
       ],
       "shape": {
        "columns": 7,
        "rows": 13
       }
      },
      "text/html": [
       "<div>\n",
       "<style scoped>\n",
       "    .dataframe tbody tr th:only-of-type {\n",
       "        vertical-align: middle;\n",
       "    }\n",
       "\n",
       "    .dataframe tbody tr th {\n",
       "        vertical-align: top;\n",
       "    }\n",
       "\n",
       "    .dataframe thead th {\n",
       "        text-align: right;\n",
       "    }\n",
       "</style>\n",
       "<table border=\"1\" class=\"dataframe\">\n",
       "  <thead>\n",
       "    <tr style=\"text-align: right;\">\n",
       "      <th></th>\n",
       "      <th>article_id</th>\n",
       "      <th>data_type_name</th>\n",
       "      <th>article_file_path_pdf</th>\n",
       "      <th>article_file_path_xml</th>\n",
       "      <th>dataset_id</th>\n",
       "      <th>type</th>\n",
       "      <th>dataset_id_norm</th>\n",
       "    </tr>\n",
       "  </thead>\n",
       "  <tbody>\n",
       "    <tr>\n",
       "      <th>0</th>\n",
       "      <td>10.1002_2017jc013030</td>\n",
       "      <td>test</td>\n",
       "      <td>./kaggle/input/make-data-count-finding-data-re...</td>\n",
       "      <td>./kaggle/input/make-data-count-finding-data-re...</td>\n",
       "      <td>https://doi.org/10.17882/49388</td>\n",
       "      <td>Primary</td>\n",
       "      <td>10.17882/49388</td>\n",
       "    </tr>\n",
       "    <tr>\n",
       "      <th>1</th>\n",
       "      <td>10.1002_ece3.4466</td>\n",
       "      <td>test</td>\n",
       "      <td>./kaggle/input/make-data-count-finding-data-re...</td>\n",
       "      <td>./kaggle/input/make-data-count-finding-data-re...</td>\n",
       "      <td>https://doi.org/10.5061/dryad.r6nq870</td>\n",
       "      <td>Primary</td>\n",
       "      <td>10.5061/dryad.r6nq8</td>\n",
       "    </tr>\n",
       "    <tr>\n",
       "      <th>2</th>\n",
       "      <td>10.1002_ece3.5260</td>\n",
       "      <td>test</td>\n",
       "      <td>./kaggle/input/make-data-count-finding-data-re...</td>\n",
       "      <td>./kaggle/input/make-data-count-finding-data-re...</td>\n",
       "      <td>https://doi.org/10.5061/dryad.2f62927</td>\n",
       "      <td>Primary</td>\n",
       "      <td>10.5061/dryad.2f629</td>\n",
       "    </tr>\n",
       "    <tr>\n",
       "      <th>3</th>\n",
       "      <td>10.1002_ece3.6144</td>\n",
       "      <td>test</td>\n",
       "      <td>./kaggle/input/make-data-count-finding-data-re...</td>\n",
       "      <td>./kaggle/input/make-data-count-finding-data-re...</td>\n",
       "      <td>https://doi.org/10.5061/dryad.zw3r22854</td>\n",
       "      <td>Primary</td>\n",
       "      <td>10.5061/dryad.zw3r2</td>\n",
       "    </tr>\n",
       "    <tr>\n",
       "      <th>4</th>\n",
       "      <td>10.1002_ece3.6303</td>\n",
       "      <td>test</td>\n",
       "      <td>./kaggle/input/make-data-count-finding-data-re...</td>\n",
       "      <td>./kaggle/input/make-data-count-finding-data-re...</td>\n",
       "      <td>https://doi.org/10.5061/dryad.37pvmcvgb</td>\n",
       "      <td>Primary</td>\n",
       "      <td>10.5061/dryad.37pvm</td>\n",
       "    </tr>\n",
       "    <tr>\n",
       "      <th>5</th>\n",
       "      <td>10.1002_ece3.9627</td>\n",
       "      <td>test</td>\n",
       "      <td>./kaggle/input/make-data-count-finding-data-re...</td>\n",
       "      <td>./kaggle/input/make-data-count-finding-data-re...</td>\n",
       "      <td>https://doi.org/10.5061/dryad.b8gtht7h3</td>\n",
       "      <td>Primary</td>\n",
       "      <td>10.5061/dryad.b8gth</td>\n",
       "    </tr>\n",
       "    <tr>\n",
       "      <th>6</th>\n",
       "      <td>10.1002_ecs2.1280</td>\n",
       "      <td>test</td>\n",
       "      <td>./kaggle/input/make-data-count-finding-data-re...</td>\n",
       "      <td>NaN</td>\n",
       "      <td>https://doi.org/10.5061/dryad.p3fg9</td>\n",
       "      <td>Primary</td>\n",
       "      <td>10.5061/dryad.p3fg9</td>\n",
       "    </tr>\n",
       "    <tr>\n",
       "      <th>7</th>\n",
       "      <td>10.1002_ecs2.4619</td>\n",
       "      <td>test</td>\n",
       "      <td>./kaggle/input/make-data-count-finding-data-re...</td>\n",
       "      <td>./kaggle/input/make-data-count-finding-data-re...</td>\n",
       "      <td>https://doi.org/10.25349/d9qw5x</td>\n",
       "      <td>Primary</td>\n",
       "      <td>10.25349/d9qw5x</td>\n",
       "    </tr>\n",
       "    <tr>\n",
       "      <th>8</th>\n",
       "      <td>10.1002_esp.5058</td>\n",
       "      <td>test</td>\n",
       "      <td>./kaggle/input/make-data-count-finding-data-re...</td>\n",
       "      <td>NaN</td>\n",
       "      <td>https://doi.org/10.5061/dryad.jh9w0vt9t</td>\n",
       "      <td>Primary</td>\n",
       "      <td>10.5061/dryad.jh9w0</td>\n",
       "    </tr>\n",
       "    <tr>\n",
       "      <th>9</th>\n",
       "      <td>10.1002_esp.5090</td>\n",
       "      <td>test</td>\n",
       "      <td>./kaggle/input/make-data-count-finding-data-re...</td>\n",
       "      <td>./kaggle/input/make-data-count-finding-data-re...</td>\n",
       "      <td>https://doi.org/10.5066/p9353101</td>\n",
       "      <td>Secondary</td>\n",
       "      <td>10.5066/p9353101</td>\n",
       "    </tr>\n",
       "    <tr>\n",
       "      <th>10</th>\n",
       "      <td>10.1002_mp.14424</td>\n",
       "      <td>test</td>\n",
       "      <td>./kaggle/input/make-data-count-finding-data-re...</td>\n",
       "      <td>./kaggle/input/make-data-count-finding-data-re...</td>\n",
       "      <td>https://doi.org/10.7937/k9/tcia.2015.pf0m9rei</td>\n",
       "      <td>Secondary</td>\n",
       "      <td>10.7937/k9/tcia.2015.pf0m9rei</td>\n",
       "    </tr>\n",
       "    <tr>\n",
       "      <th>11</th>\n",
       "      <td>10.1002_mp.14424</td>\n",
       "      <td>test</td>\n",
       "      <td>./kaggle/input/make-data-count-finding-data-re...</td>\n",
       "      <td>./kaggle/input/make-data-count-finding-data-re...</td>\n",
       "      <td>https://doi.org/10.7937/tcia.2020.6c7y-gq39</td>\n",
       "      <td>Primary</td>\n",
       "      <td>10.7937/tcia.2020.6c7y-gq39</td>\n",
       "    </tr>\n",
       "    <tr>\n",
       "      <th>12</th>\n",
       "      <td>10.1002_nafm.10870</td>\n",
       "      <td>test</td>\n",
       "      <td>./kaggle/input/make-data-count-finding-data-re...</td>\n",
       "      <td>NaN</td>\n",
       "      <td>https://doi.org/10.5066/p9gtumay</td>\n",
       "      <td>Primary</td>\n",
       "      <td>10.5066/p9gtumay</td>\n",
       "    </tr>\n",
       "  </tbody>\n",
       "</table>\n",
       "</div>"
      ],
      "text/plain": [
       "              article_id data_type_name  \\\n",
       "0   10.1002_2017jc013030           test   \n",
       "1      10.1002_ece3.4466           test   \n",
       "2      10.1002_ece3.5260           test   \n",
       "3      10.1002_ece3.6144           test   \n",
       "4      10.1002_ece3.6303           test   \n",
       "5      10.1002_ece3.9627           test   \n",
       "6      10.1002_ecs2.1280           test   \n",
       "7      10.1002_ecs2.4619           test   \n",
       "8       10.1002_esp.5058           test   \n",
       "9       10.1002_esp.5090           test   \n",
       "10      10.1002_mp.14424           test   \n",
       "11      10.1002_mp.14424           test   \n",
       "12    10.1002_nafm.10870           test   \n",
       "\n",
       "                                article_file_path_pdf  \\\n",
       "0   ./kaggle/input/make-data-count-finding-data-re...   \n",
       "1   ./kaggle/input/make-data-count-finding-data-re...   \n",
       "2   ./kaggle/input/make-data-count-finding-data-re...   \n",
       "3   ./kaggle/input/make-data-count-finding-data-re...   \n",
       "4   ./kaggle/input/make-data-count-finding-data-re...   \n",
       "5   ./kaggle/input/make-data-count-finding-data-re...   \n",
       "6   ./kaggle/input/make-data-count-finding-data-re...   \n",
       "7   ./kaggle/input/make-data-count-finding-data-re...   \n",
       "8   ./kaggle/input/make-data-count-finding-data-re...   \n",
       "9   ./kaggle/input/make-data-count-finding-data-re...   \n",
       "10  ./kaggle/input/make-data-count-finding-data-re...   \n",
       "11  ./kaggle/input/make-data-count-finding-data-re...   \n",
       "12  ./kaggle/input/make-data-count-finding-data-re...   \n",
       "\n",
       "                                article_file_path_xml  \\\n",
       "0   ./kaggle/input/make-data-count-finding-data-re...   \n",
       "1   ./kaggle/input/make-data-count-finding-data-re...   \n",
       "2   ./kaggle/input/make-data-count-finding-data-re...   \n",
       "3   ./kaggle/input/make-data-count-finding-data-re...   \n",
       "4   ./kaggle/input/make-data-count-finding-data-re...   \n",
       "5   ./kaggle/input/make-data-count-finding-data-re...   \n",
       "6                                                 NaN   \n",
       "7   ./kaggle/input/make-data-count-finding-data-re...   \n",
       "8                                                 NaN   \n",
       "9   ./kaggle/input/make-data-count-finding-data-re...   \n",
       "10  ./kaggle/input/make-data-count-finding-data-re...   \n",
       "11  ./kaggle/input/make-data-count-finding-data-re...   \n",
       "12                                                NaN   \n",
       "\n",
       "                                       dataset_id       type  \\\n",
       "0                  https://doi.org/10.17882/49388    Primary   \n",
       "1           https://doi.org/10.5061/dryad.r6nq870    Primary   \n",
       "2           https://doi.org/10.5061/dryad.2f62927    Primary   \n",
       "3         https://doi.org/10.5061/dryad.zw3r22854    Primary   \n",
       "4         https://doi.org/10.5061/dryad.37pvmcvgb    Primary   \n",
       "5         https://doi.org/10.5061/dryad.b8gtht7h3    Primary   \n",
       "6             https://doi.org/10.5061/dryad.p3fg9    Primary   \n",
       "7                 https://doi.org/10.25349/d9qw5x    Primary   \n",
       "8         https://doi.org/10.5061/dryad.jh9w0vt9t    Primary   \n",
       "9                https://doi.org/10.5066/p9353101  Secondary   \n",
       "10  https://doi.org/10.7937/k9/tcia.2015.pf0m9rei  Secondary   \n",
       "11    https://doi.org/10.7937/tcia.2020.6c7y-gq39    Primary   \n",
       "12               https://doi.org/10.5066/p9gtumay    Primary   \n",
       "\n",
       "                  dataset_id_norm  \n",
       "0                  10.17882/49388  \n",
       "1             10.5061/dryad.r6nq8  \n",
       "2             10.5061/dryad.2f629  \n",
       "3             10.5061/dryad.zw3r2  \n",
       "4             10.5061/dryad.37pvm  \n",
       "5             10.5061/dryad.b8gth  \n",
       "6             10.5061/dryad.p3fg9  \n",
       "7                 10.25349/d9qw5x  \n",
       "8             10.5061/dryad.jh9w0  \n",
       "9                10.5066/p9353101  \n",
       "10  10.7937/k9/tcia.2015.pf0m9rei  \n",
       "11    10.7937/tcia.2020.6c7y-gq39  \n",
       "12               10.5066/p9gtumay  "
      ]
     },
     "execution_count": 292,
     "metadata": {},
     "output_type": "execute_result"
    }
   ],
   "source": [
    "test_df = merge_articles_and_files('test')\n",
    "test_df"
   ]
  },
  {
   "cell_type": "code",
   "execution_count": 293,
   "metadata": {},
   "outputs": [
    {
     "name": "stdout",
     "output_type": "stream",
     "text": [
      "unique articles: 12\n",
      "unique datasets: 13\n"
     ]
    }
   ],
   "source": [
    "# Number of unique test articles and datasets\n",
    "print(f\"unique articles: {test_df['article_id'].nunique()}\")\n",
    "print(f\"unique datasets: {test_df['dataset_id'].nunique()}\")"
   ]
  },
  {
   "cell_type": "code",
   "execution_count": 294,
   "metadata": {
    "execution": {
     "iopub.execute_input": "2025-06-18T16:00:06.153128Z",
     "iopub.status.busy": "2025-06-18T16:00:06.152832Z",
     "iopub.status.idle": "2025-06-18T16:00:06.166002Z",
     "shell.execute_reply": "2025-06-18T16:00:06.165035Z",
     "shell.execute_reply.started": "2025-06-18T16:00:06.153106Z"
    },
    "trusted": true
   },
   "outputs": [
    {
     "data": {
      "application/vnd.microsoft.datawrangler.viewer.v0+json": {
       "columns": [
        {
         "name": "index",
         "rawType": "int64",
         "type": "integer"
        },
        {
         "name": "article_id",
         "rawType": "object",
         "type": "string"
        },
        {
         "name": "data_type_name",
         "rawType": "object",
         "type": "string"
        },
        {
         "name": "article_file_path_pdf",
         "rawType": "object",
         "type": "string"
        },
        {
         "name": "article_file_path_xml",
         "rawType": "object",
         "type": "string"
        },
        {
         "name": "dataset_id",
         "rawType": "object",
         "type": "string"
        },
        {
         "name": "type",
         "rawType": "object",
         "type": "string"
        },
        {
         "name": "dataset_id_norm",
         "rawType": "object",
         "type": "string"
        }
       ],
       "ref": "d6e84e3a-a94b-46c2-aa8c-eb70a7204cca",
       "rows": [
        [
         "10",
         "10.1002_mp.14424",
         "train",
         "./kaggle/input/make-data-count-finding-data-references/train\\PDF\\10.1002_mp.14424.pdf",
         "./kaggle/input/make-data-count-finding-data-references/train\\XML\\10.1002_mp.14424.xml",
         "https://doi.org/10.7937/k9/tcia.2015.pf0m9rei",
         "Secondary",
         "10.7937/k9/tcia.2015.pf0m9rei"
        ],
        [
         "11",
         "10.1002_mp.14424",
         "train",
         "./kaggle/input/make-data-count-finding-data-references/train\\PDF\\10.1002_mp.14424.pdf",
         "./kaggle/input/make-data-count-finding-data-references/train\\XML\\10.1002_mp.14424.xml",
         "https://doi.org/10.7937/tcia.2020.6c7y-gq39",
         "Primary",
         "10.7937/tcia.2020.6c7y-gq39"
        ]
       ],
       "shape": {
        "columns": 7,
        "rows": 2
       }
      },
      "text/html": [
       "<div>\n",
       "<style scoped>\n",
       "    .dataframe tbody tr th:only-of-type {\n",
       "        vertical-align: middle;\n",
       "    }\n",
       "\n",
       "    .dataframe tbody tr th {\n",
       "        vertical-align: top;\n",
       "    }\n",
       "\n",
       "    .dataframe thead th {\n",
       "        text-align: right;\n",
       "    }\n",
       "</style>\n",
       "<table border=\"1\" class=\"dataframe\">\n",
       "  <thead>\n",
       "    <tr style=\"text-align: right;\">\n",
       "      <th></th>\n",
       "      <th>article_id</th>\n",
       "      <th>data_type_name</th>\n",
       "      <th>article_file_path_pdf</th>\n",
       "      <th>article_file_path_xml</th>\n",
       "      <th>dataset_id</th>\n",
       "      <th>type</th>\n",
       "      <th>dataset_id_norm</th>\n",
       "    </tr>\n",
       "  </thead>\n",
       "  <tbody>\n",
       "    <tr>\n",
       "      <th>10</th>\n",
       "      <td>10.1002_mp.14424</td>\n",
       "      <td>train</td>\n",
       "      <td>./kaggle/input/make-data-count-finding-data-re...</td>\n",
       "      <td>./kaggle/input/make-data-count-finding-data-re...</td>\n",
       "      <td>https://doi.org/10.7937/k9/tcia.2015.pf0m9rei</td>\n",
       "      <td>Secondary</td>\n",
       "      <td>10.7937/k9/tcia.2015.pf0m9rei</td>\n",
       "    </tr>\n",
       "    <tr>\n",
       "      <th>11</th>\n",
       "      <td>10.1002_mp.14424</td>\n",
       "      <td>train</td>\n",
       "      <td>./kaggle/input/make-data-count-finding-data-re...</td>\n",
       "      <td>./kaggle/input/make-data-count-finding-data-re...</td>\n",
       "      <td>https://doi.org/10.7937/tcia.2020.6c7y-gq39</td>\n",
       "      <td>Primary</td>\n",
       "      <td>10.7937/tcia.2020.6c7y-gq39</td>\n",
       "    </tr>\n",
       "  </tbody>\n",
       "</table>\n",
       "</div>"
      ],
      "text/plain": [
       "          article_id data_type_name  \\\n",
       "10  10.1002_mp.14424          train   \n",
       "11  10.1002_mp.14424          train   \n",
       "\n",
       "                                article_file_path_pdf  \\\n",
       "10  ./kaggle/input/make-data-count-finding-data-re...   \n",
       "11  ./kaggle/input/make-data-count-finding-data-re...   \n",
       "\n",
       "                                article_file_path_xml  \\\n",
       "10  ./kaggle/input/make-data-count-finding-data-re...   \n",
       "11  ./kaggle/input/make-data-count-finding-data-re...   \n",
       "\n",
       "                                       dataset_id       type  \\\n",
       "10  https://doi.org/10.7937/k9/tcia.2015.pf0m9rei  Secondary   \n",
       "11    https://doi.org/10.7937/tcia.2020.6c7y-gq39    Primary   \n",
       "\n",
       "                  dataset_id_norm  \n",
       "10  10.7937/k9/tcia.2015.pf0m9rei  \n",
       "11    10.7937/tcia.2020.6c7y-gq39  "
      ]
     },
     "execution_count": 294,
     "metadata": {},
     "output_type": "execute_result"
    }
   ],
   "source": [
    "# Display the row for a specific article_id in the training DataFrame\n",
    "# train_df[train_df['article_id'] == '10.1029_2019jg005297']\n",
    "train_df[train_df['article_id'] == '10.1002_mp.14424']\n"
   ]
  },
  {
   "cell_type": "code",
   "execution_count": 295,
   "metadata": {},
   "outputs": [
    {
     "data": {
      "application/vnd.microsoft.datawrangler.viewer.v0+json": {
       "columns": [
        {
         "name": "index",
         "rawType": "int64",
         "type": "integer"
        },
        {
         "name": "article_id",
         "rawType": "object",
         "type": "string"
        },
        {
         "name": "data_type_name",
         "rawType": "object",
         "type": "string"
        },
        {
         "name": "article_file_path_pdf",
         "rawType": "object",
         "type": "string"
        },
        {
         "name": "article_file_path_xml",
         "rawType": "object",
         "type": "string"
        },
        {
         "name": "dataset_id",
         "rawType": "object",
         "type": "string"
        },
        {
         "name": "type",
         "rawType": "object",
         "type": "string"
        },
        {
         "name": "dataset_id_norm",
         "rawType": "object",
         "type": "string"
        }
       ],
       "ref": "b775d7ed-dc7b-41ba-9a66-28e34f2a2306",
       "rows": [
        [
         "10",
         "10.1002_mp.14424",
         "test",
         "./kaggle/input/make-data-count-finding-data-references/test\\PDF\\10.1002_mp.14424.pdf",
         "./kaggle/input/make-data-count-finding-data-references/test\\XML\\10.1002_mp.14424.xml",
         "https://doi.org/10.7937/k9/tcia.2015.pf0m9rei",
         "Secondary",
         "10.7937/k9/tcia.2015.pf0m9rei"
        ],
        [
         "11",
         "10.1002_mp.14424",
         "test",
         "./kaggle/input/make-data-count-finding-data-references/test\\PDF\\10.1002_mp.14424.pdf",
         "./kaggle/input/make-data-count-finding-data-references/test\\XML\\10.1002_mp.14424.xml",
         "https://doi.org/10.7937/tcia.2020.6c7y-gq39",
         "Primary",
         "10.7937/tcia.2020.6c7y-gq39"
        ]
       ],
       "shape": {
        "columns": 7,
        "rows": 2
       }
      },
      "text/html": [
       "<div>\n",
       "<style scoped>\n",
       "    .dataframe tbody tr th:only-of-type {\n",
       "        vertical-align: middle;\n",
       "    }\n",
       "\n",
       "    .dataframe tbody tr th {\n",
       "        vertical-align: top;\n",
       "    }\n",
       "\n",
       "    .dataframe thead th {\n",
       "        text-align: right;\n",
       "    }\n",
       "</style>\n",
       "<table border=\"1\" class=\"dataframe\">\n",
       "  <thead>\n",
       "    <tr style=\"text-align: right;\">\n",
       "      <th></th>\n",
       "      <th>article_id</th>\n",
       "      <th>data_type_name</th>\n",
       "      <th>article_file_path_pdf</th>\n",
       "      <th>article_file_path_xml</th>\n",
       "      <th>dataset_id</th>\n",
       "      <th>type</th>\n",
       "      <th>dataset_id_norm</th>\n",
       "    </tr>\n",
       "  </thead>\n",
       "  <tbody>\n",
       "    <tr>\n",
       "      <th>10</th>\n",
       "      <td>10.1002_mp.14424</td>\n",
       "      <td>test</td>\n",
       "      <td>./kaggle/input/make-data-count-finding-data-re...</td>\n",
       "      <td>./kaggle/input/make-data-count-finding-data-re...</td>\n",
       "      <td>https://doi.org/10.7937/k9/tcia.2015.pf0m9rei</td>\n",
       "      <td>Secondary</td>\n",
       "      <td>10.7937/k9/tcia.2015.pf0m9rei</td>\n",
       "    </tr>\n",
       "    <tr>\n",
       "      <th>11</th>\n",
       "      <td>10.1002_mp.14424</td>\n",
       "      <td>test</td>\n",
       "      <td>./kaggle/input/make-data-count-finding-data-re...</td>\n",
       "      <td>./kaggle/input/make-data-count-finding-data-re...</td>\n",
       "      <td>https://doi.org/10.7937/tcia.2020.6c7y-gq39</td>\n",
       "      <td>Primary</td>\n",
       "      <td>10.7937/tcia.2020.6c7y-gq39</td>\n",
       "    </tr>\n",
       "  </tbody>\n",
       "</table>\n",
       "</div>"
      ],
      "text/plain": [
       "          article_id data_type_name  \\\n",
       "10  10.1002_mp.14424           test   \n",
       "11  10.1002_mp.14424           test   \n",
       "\n",
       "                                article_file_path_pdf  \\\n",
       "10  ./kaggle/input/make-data-count-finding-data-re...   \n",
       "11  ./kaggle/input/make-data-count-finding-data-re...   \n",
       "\n",
       "                                article_file_path_xml  \\\n",
       "10  ./kaggle/input/make-data-count-finding-data-re...   \n",
       "11  ./kaggle/input/make-data-count-finding-data-re...   \n",
       "\n",
       "                                       dataset_id       type  \\\n",
       "10  https://doi.org/10.7937/k9/tcia.2015.pf0m9rei  Secondary   \n",
       "11    https://doi.org/10.7937/tcia.2020.6c7y-gq39    Primary   \n",
       "\n",
       "                  dataset_id_norm  \n",
       "10  10.7937/k9/tcia.2015.pf0m9rei  \n",
       "11    10.7937/tcia.2020.6c7y-gq39  "
      ]
     },
     "execution_count": 295,
     "metadata": {},
     "output_type": "execute_result"
    }
   ],
   "source": [
    "# Display the row for a specific article_id in the test DataFrame\n",
    "test_df[test_df['article_id'] == '10.1002_mp.14424']"
   ]
  },
  {
   "cell_type": "markdown",
   "metadata": {},
   "source": [
    "## Extract text from files"
   ]
  },
  {
   "cell_type": "code",
   "execution_count": 296,
   "metadata": {},
   "outputs": [],
   "source": [
    "def extract_text_from_pdf_pypdf2(pdf_file_path):\n",
    "    \"\"\"\n",
    "    Extracts text from a PDF file using PyPDF2.\n",
    "    \"\"\"\n",
    "    text = \"\"\n",
    "    try:\n",
    "        with open(pdf_file_path, 'rb') as pdf_file_obj:\n",
    "            pdf_reader = PyPDF2.PdfReader(pdf_file_obj)\n",
    "            num_pages = len(pdf_reader.pages)\n",
    "            for page_num in range(num_pages):\n",
    "                page_obj = pdf_reader.pages[page_num]\n",
    "                text += page_obj.extract_text()\n",
    "    except Exception as e:\n",
    "        print(f\"Error reading {pdf_file_path} with PyPDF2: {e}\")\n",
    "        # Optionally, you could try to extract text even if there are warnings/errors\n",
    "        # For example, by passing strict=False to PdfReader, though this might hide issues\n",
    "        # pdf_reader = PyPDF2.PdfReader(pdf_file_obj, strict=False)\n",
    "    return text"
   ]
  },
  {
   "cell_type": "code",
   "execution_count": 297,
   "metadata": {},
   "outputs": [],
   "source": [
    "def read_xml_file_contents_as_string(xml_file_path: str, encoding: str = 'utf-8') -> Optional[str]:\n",
    "    \"\"\"\n",
    "    Reads the entire content of an XML (or any text) file into a single string.\n",
    "\n",
    "    Args:\n",
    "        xml_file_path (str): The path to the XML file.\n",
    "        encoding (str): The character encoding to use when reading the file.\n",
    "                        Defaults to 'utf-8', which is common for XML.\n",
    "\n",
    "    Returns:\n",
    "        Optional[str]: A string containing the full content of the file,\n",
    "                       or None if an error occurs (e.g., file not found).\n",
    "    \"\"\"\n",
    "    try:\n",
    "        with open(xml_file_path, 'r', encoding=encoding) as file:\n",
    "            content = file.read()\n",
    "        return content\n",
    "    except FileNotFoundError:\n",
    "        print(f\"Error: File not found at '{xml_file_path}'\")\n",
    "        return None\n",
    "    except IOError as e:\n",
    "        print(f\"Error reading file '{xml_file_path}': {e}\")\n",
    "        return None\n",
    "    except Exception as e:\n",
    "        print(f\"An unexpected error occurred while reading '{xml_file_path}': {e}\")\n",
    "        return None"
   ]
  },
  {
   "cell_type": "code",
   "execution_count": 298,
   "metadata": {},
   "outputs": [],
   "source": [
    "def find_string_with_context(main_string: str, search_string: str, context_chars: int = 100) -> List[str]:\n",
    "    \"\"\"\n",
    "    Finds all occurrences of search_string within main_string and returns\n",
    "    a context window for each. The context window includes the search_string\n",
    "    itself, surrounded by up to 'context_chars' characters from before and\n",
    "    after its occurrence in the main_string.\n",
    "\n",
    "    Args:\n",
    "        main_string (str): The string to search within.\n",
    "        search_string (str): The string to search for.\n",
    "        context_chars (int): The number of characters to include before and after\n",
    "                             the search_string in the context window. Defaults to 100.\n",
    "\n",
    "    Returns:\n",
    "        List[str]: A list of strings, where each string is an occurrence of\n",
    "                   search_string surrounded by its context. Returns an empty\n",
    "                   list if search_string is not found, or if either\n",
    "                   main_string or search_string is empty.\n",
    "    \"\"\"\n",
    "    if not main_string or not search_string:\n",
    "        return []\n",
    "\n",
    "    occurrences_with_context: List[str] = []\n",
    "    current_search_start_index: int = 0\n",
    "    len_main: int = len(main_string)\n",
    "    len_search: int = len(search_string)\n",
    "    main_string_lower: str = \"\".join(main_string.lower().splitlines())  # Join lines to remove breaks and convert to lowercase\n",
    "\n",
    "    while current_search_start_index < len_main:\n",
    "        found_at_index: int = main_string_lower.find(search_string, current_search_start_index)\n",
    "        \n",
    "        if found_at_index == -1:  # No more occurrences\n",
    "            break\n",
    "        \n",
    "        # Determine the start of the context snippet\n",
    "        # It's 'context_chars' before the found string, but not less than 0\n",
    "        context_slice_start: int = max(0, found_at_index - context_chars)\n",
    "        \n",
    "        # Determine the end of the context snippet\n",
    "        # It's 'context_chars' after the end of the found string, but not beyond main_string length\n",
    "        context_slice_end: int = min(len_main, found_at_index + len_search + context_chars)\n",
    "        \n",
    "        # Extract the substring that includes the search_string and its context\n",
    "        extracted_snippet: str = main_string_lower[context_slice_start:context_slice_end]\n",
    "        occurrences_with_context.append(extracted_snippet)\n",
    "        \n",
    "        # Move the starting point for the next search to just after the current find\n",
    "        # This allows finding overlapping occurrences if search_string can overlap itself\n",
    "        current_search_start_index = found_at_index + 1\n",
    "            \n",
    "    return occurrences_with_context"
   ]
  },
  {
   "cell_type": "code",
   "execution_count": 299,
   "metadata": {},
   "outputs": [],
   "source": [
    "def get_file_text_related_to_dataset_id(article_id: str) -> pd.DataFrame:\n",
    "    \"\"\"\n",
    "    Get text related to all dataset_id's for the given article_id.\n",
    "    \"\"\"\n",
    "    # Filter the DataFrame for the given dataset_id\n",
    "    filtered_df = train_df[train_df['article_id'] == article_id].reset_index(drop=True)\n",
    "    \n",
    "    # Initialize a list to hold the results\n",
    "    results = []\n",
    "    pdf_full_text = None\n",
    "    xml_full_text = None\n",
    "    \n",
    "    # Iterate over each row in the filtered DataFrame\n",
    "    for _, row in filtered_df.iterrows():\n",
    "        dataset_id_norm = row['dataset_id_norm']\n",
    "        \n",
    "        # Extract text from the PDF file\n",
    "        if not pdf_full_text:\n",
    "            pdf_file_path = row['article_file_path_pdf']\n",
    "            pdf_full_text = extract_text_from_pdf_pypdf2(pdf_file_path) if pdf_file_path else ''\n",
    "        pdf_text = find_string_with_context(pdf_full_text, dataset_id_norm, context_chars=100) if pdf_full_text else ''\n",
    "        \n",
    "        # Extract text from the XML file\n",
    "        if not xml_full_text:\n",
    "            xml_file_path = row['article_file_path_xml']\n",
    "            xml_full_text = read_xml_file_contents_as_string(xml_file_path) if xml_file_path else ''\n",
    "        xml_text = find_string_with_context(xml_full_text, dataset_id_norm, context_chars=100) if xml_full_text else ''\n",
    "\n",
    "        # Append the result to the list\n",
    "        results.append({\n",
    "            'article_id': article_id,\n",
    "            'dataset_id_norm': dataset_id_norm,\n",
    "            'pdf_text': pdf_text,\n",
    "            'xml_text': xml_text,\n",
    "        })\n",
    "    \n",
    "    # Create a DataFrame from the results\n",
    "    return pd.DataFrame(results)"
   ]
  },
  {
   "cell_type": "code",
   "execution_count": 300,
   "metadata": {},
   "outputs": [
    {
     "name": "stdout",
     "output_type": "stream",
     "text": [
      "An unexpected error occurred while reading 'nan': expected str, bytes or os.PathLike object, not float\n"
     ]
    },
    {
     "data": {
      "application/vnd.microsoft.datawrangler.viewer.v0+json": {
       "columns": [
        {
         "name": "index",
         "rawType": "int64",
         "type": "integer"
        },
        {
         "name": "article_id",
         "rawType": "object",
         "type": "string"
        },
        {
         "name": "dataset_id_norm",
         "rawType": "object",
         "type": "string"
        },
        {
         "name": "pdf_text",
         "rawType": "object",
         "type": "unknown"
        },
        {
         "name": "xml_text",
         "rawType": "object",
         "type": "string"
        }
       ],
       "ref": "89e5ed85-b5b4-400b-b82c-1f18baf5b4f0",
       "rows": [
        [
         "0",
         "10.1002_esp.5058",
         "10.5061/dryad.jh9w0",
         "['openly available [usgs data release] at http://doi.org/10.5066/p9fw6e8k and [dryad] https://doi.org/10.5061/dryad.jh9w0vt9t, respectively.orcidkattia rubi arnez ferrelhttps://orcid.org/0000-0003-1670-3272jonathan mark n']",
         ""
        ]
       ],
       "shape": {
        "columns": 4,
        "rows": 1
       }
      },
      "text/html": [
       "<div>\n",
       "<style scoped>\n",
       "    .dataframe tbody tr th:only-of-type {\n",
       "        vertical-align: middle;\n",
       "    }\n",
       "\n",
       "    .dataframe tbody tr th {\n",
       "        vertical-align: top;\n",
       "    }\n",
       "\n",
       "    .dataframe thead th {\n",
       "        text-align: right;\n",
       "    }\n",
       "</style>\n",
       "<table border=\"1\" class=\"dataframe\">\n",
       "  <thead>\n",
       "    <tr style=\"text-align: right;\">\n",
       "      <th></th>\n",
       "      <th>article_id</th>\n",
       "      <th>dataset_id_norm</th>\n",
       "      <th>pdf_text</th>\n",
       "      <th>xml_text</th>\n",
       "    </tr>\n",
       "  </thead>\n",
       "  <tbody>\n",
       "    <tr>\n",
       "      <th>0</th>\n",
       "      <td>10.1002_esp.5058</td>\n",
       "      <td>10.5061/dryad.jh9w0</td>\n",
       "      <td>[openly available [usgs data release] at http:...</td>\n",
       "      <td></td>\n",
       "    </tr>\n",
       "  </tbody>\n",
       "</table>\n",
       "</div>"
      ],
      "text/plain": [
       "         article_id      dataset_id_norm  \\\n",
       "0  10.1002_esp.5058  10.5061/dryad.jh9w0   \n",
       "\n",
       "                                            pdf_text xml_text  \n",
       "0  [openly available [usgs data release] at http:...           "
      ]
     },
     "execution_count": 300,
     "metadata": {},
     "output_type": "execute_result"
    }
   ],
   "source": [
    "file_text_df = get_file_text_related_to_dataset_id('10.1002_esp.5058')\n",
    "file_text_df"
   ]
  },
  {
   "cell_type": "code",
   "execution_count": 301,
   "metadata": {},
   "outputs": [],
   "source": [
    "def get_file_text(orig_df: pd.DataFrame) -> pd.DataFrame:\n",
    "    \"\"\"\n",
    "    Get text related to all dataset_id's for each article_id in the given orig_df.\n",
    "    \"\"\"\n",
    "    new_df = orig_df.copy()\n",
    "    pdf_full_text = None\n",
    "    xml_full_text = None\n",
    "    curr_article_id = None\n",
    "\n",
    "    pdf_texts = []\n",
    "    xml_texts = []\n",
    "\n",
    "    def get_pdf_text(row, pdf_full_text):\n",
    "        if not pdf_full_text:\n",
    "            pdf_file_path = row['article_file_path_pdf']\n",
    "            pdf_full_text = extract_text_from_pdf_pypdf2(pdf_file_path) if pdf_file_path else ''\n",
    "        pdf_text = find_string_with_context(pdf_full_text, row['dataset_id_norm'], context_chars=100) if pdf_full_text else ''\n",
    "        return pdf_text, pdf_full_text\n",
    "\n",
    "    def get_xml_text(row, xml_full_text):\n",
    "        if not xml_full_text:\n",
    "            xml_file_path = row['article_file_path_xml']\n",
    "            if pd.notna(xml_file_path) and isinstance(xml_file_path, str) and xml_file_path:\n",
    "                xml_full_text = read_xml_file_contents_as_string(xml_file_path)\n",
    "            else:\n",
    "                xml_full_text = ''\n",
    "        xml_text = find_string_with_context(xml_full_text, row['dataset_id_norm'], context_chars=100) if xml_full_text else ''\n",
    "        return xml_text, xml_full_text\n",
    "\n",
    "    for _, row in new_df.iterrows():\n",
    "        article_id = row['article_id']\n",
    "        if curr_article_id != article_id:\n",
    "            pdf_full_text = None\n",
    "            xml_full_text = None\n",
    "            curr_article_id = article_id\n",
    "\n",
    "        pdf_text, pdf_full_text = get_pdf_text(row, pdf_full_text)\n",
    "        xml_text, xml_full_text = get_xml_text(row, xml_full_text)\n",
    "\n",
    "        pdf_texts.append(pdf_text)\n",
    "        xml_texts.append(xml_text)\n",
    "\n",
    "    new_df['pdf_text'] = pdf_texts\n",
    "    new_df['xml_text'] = xml_texts\n",
    "\n",
    "    return new_df"
   ]
  },
  {
   "cell_type": "code",
   "execution_count": 302,
   "metadata": {},
   "outputs": [
    {
     "data": {
      "application/vnd.microsoft.datawrangler.viewer.v0+json": {
       "columns": [
        {
         "name": "index",
         "rawType": "int64",
         "type": "integer"
        },
        {
         "name": "article_id",
         "rawType": "object",
         "type": "string"
        },
        {
         "name": "data_type_name",
         "rawType": "object",
         "type": "string"
        },
        {
         "name": "article_file_path_pdf",
         "rawType": "object",
         "type": "string"
        },
        {
         "name": "article_file_path_xml",
         "rawType": "object",
         "type": "unknown"
        },
        {
         "name": "dataset_id",
         "rawType": "object",
         "type": "string"
        },
        {
         "name": "type",
         "rawType": "object",
         "type": "string"
        },
        {
         "name": "dataset_id_norm",
         "rawType": "object",
         "type": "string"
        },
        {
         "name": "pdf_text",
         "rawType": "object",
         "type": "unknown"
        },
        {
         "name": "xml_text",
         "rawType": "object",
         "type": "unknown"
        }
       ],
       "ref": "672320e1-7916-474c-80da-137a66bba73a",
       "rows": [
        [
         "0",
         "10.1002_2017jc013030",
         "test",
         "./kaggle/input/make-data-count-finding-data-references/test\\PDF\\10.1002_2017jc013030.pdf",
         "./kaggle/input/make-data-count-finding-data-references/test\\XML\\10.1002_2017jc013030.xml",
         "https://doi.org/10.17882/49388",
         "Primary",
         "10.17882/49388",
         "['al argo ﬂoat measurements for biogeochemical and bio-optical applications . seanoe. https://doi.org/10.17882/49388barton, a. d., lozier, m. s., & williams, r. g. (2015). physical controls of variability in north at', 'o organelliet al. (2016a; https://doi.org/10.17882/47142) and barbieux et al. (2017;https://doi.org/10.17882/49388) arefreely available on seanoe.journal of geophysical research: oceans 10.1002/2017jc013030barbieux']",
         "['f> (doi:10.17882/47142)</s><s>and <ref target=\"#b8\" type=\"bibr\">(barbieux et al., 2017)</ref> (doi: 10.17882/49388) are freely available on seanoe.</s></p></div> </div><div type=\"references\"><listbibl><biblstruct x', '><forename type=\"first\">m</forename><surname>barbieux</surname></persname></author><idno type=\"doi\">10.17882/49388</idno></analytic><monogr><title level=\"j\">seanoe</title><imprint><date type=\"published\" when=\"2017\"', 'eochemical argo float measurements for biogeochemical and bio-optical applications, seanoe, doi:doi:10.17882/49388.</note></biblstruct><biblstruct xml:id=\"b9\"><analytic><title level=\"a\" type=\"main\">physical control']"
        ],
        [
         "1",
         "10.1002_ece3.4466",
         "test",
         "./kaggle/input/make-data-count-finding-data-references/test\\PDF\\10.1002_ece3.4466.pdf",
         "./kaggle/input/make-data-count-finding-data-references/test\\XML\\10.1002_ece3.4466.xml",
         "https://doi.org/10.5061/dryad.r6nq870",
         "Primary",
         "10.5061/dryad.r6nq8",
         "['cation.data accessibilitythe dataset supporting this article are available in dryad https://doi.org/10.5061/dryad.r6nq870.orcidalexander hansson   http://orcid.org/0000-0002-7179-9361  mats olsson   http:/ /orcid.org/00']",
         "['rting this article are available in dryad <ext-link ext-link-type=\"uri\" xlink:href=\"https://doi.org/10.5061/dryad.r6nq870\">https://doi.org/10.5061/dryad.r6nq870</ext-link>.</p></sec><sec sec-type=\"supplementary-material', 'ad <ext-link ext-link-type=\"uri\" xlink:href=\"https://doi.org/10.5061/dryad.r6nq870\">https://doi.org/10.5061/dryad.r6nq870</ext-link>.</p></sec><sec sec-type=\"supplementary-material\"><title>supporting information</title>']"
        ],
        [
         "2",
         "10.1002_ece3.5260",
         "test",
         "./kaggle/input/make-data-count-finding-data-references/test\\PDF\\10.1002_ece3.5260.pdf",
         "./kaggle/input/make-data-count-finding-data-references/test\\XML\\10.1002_ece3.5260.xml",
         "https://doi.org/10.5061/dryad.2f62927",
         "Primary",
         "10.5061/dryad.2f629",
         "['or probe design experiments and adephaga_2.9kv1 final probe set fasta file: dryad https  ://doi.org/10.5061/dryad.2f62927; custom scripts: alexander 2018a: comparing_monolithic_uce_fas ‐tas available from; https  ://git']",
         "['ed/bam files for probe design experiments and adephaga_2.9kv1 final probe set fasta file: dryad doi:10.5061/dryad.2f62927; custom scripts: alexander 2018a: comparing_monolithic_uce_fastas available from; <ext-link ext-l', '_2.9kv1 final probe set fasta file: dryad <ext-link ext-link-type=\"uri\" xlink:href=\"https://doi.org/10.5061/dryad.2f62927\">https://doi.org/10.5061/dryad.2f62927</ext-link>; custom scripts: alexander 2018a: comparing_mon', 'ad <ext-link ext-link-type=\"uri\" xlink:href=\"https://doi.org/10.5061/dryad.2f62927\">https://doi.org/10.5061/dryad.2f62927</ext-link>; custom scripts: alexander 2018a: comparing_monolithic_uce_fastas available from; <ext']"
        ],
        [
         "3",
         "10.1002_ece3.6144",
         "test",
         "./kaggle/input/make-data-count-finding-data-references/test\\PDF\\10.1002_ece3.6144.pdf",
         "./kaggle/input/make-data-count-finding-data-references/test\\XML\\10.1002_ece3.6144.xml",
         "https://doi.org/10.5061/dryad.zw3r22854",
         "Primary",
         "10.5061/dryad.zw3r2",
         "['gator.data availability statementdata are available at dryad digital repository at: https://doi.org/10.5061/dryad.zw3r2  2854. two sequences used in our refer -ence library are on genbank (accession numbers mh714866 and']",
         "['available at dryad digital repository at: <ext-link ext-link-type=\"uri\" xlink:href=\"https://doi.org/10.5061/dryad.zw3r22854\" specific-use=\"dataset is-supplemented-by\">https://doi.org/10.5061/dryad.zw3r22854</ext-link>. ', '\"https://doi.org/10.5061/dryad.zw3r22854\" specific-use=\"dataset is-supplemented-by\">https://doi.org/10.5061/dryad.zw3r22854</ext-link>. two sequences used in our reference library are on genbank (accession numbers mh714']"
        ],
        [
         "4",
         "10.1002_ece3.6303",
         "test",
         "./kaggle/input/make-data-count-finding-data-references/test\\PDF\\10.1002_ece3.6303.pdf",
         "./kaggle/input/make-data-count-finding-data-references/test\\XML\\10.1002_ece3.6303.xml",
         "https://doi.org/10.5061/dryad.37pvmcvgb",
         "Primary",
         "10.5061/dryad.37pvm",
         "[' data that support the findings of this study have been deposited in dryad with doi:https://doi.org/10.5061/dryad.37pvm  cvgb.orcidayub m. o. oduor  https:/ /orcid.org/0000-0001-6714-5253  robin pouteau   https:/ /orcid']",
         "['udy have been deposited in dryad with doi:<ext-link ext-link-type=\"uri\" xlink:href=\"https://doi.org/10.5061/dryad.37pvmcvgb\" specific-use=\"dataset is-supplemented-by\">https://doi.org/10.5061/dryad.37pvmcvgb</ext-link>.<', '\"https://doi.org/10.5061/dryad.37pvmcvgb\" specific-use=\"dataset is-supplemented-by\">https://doi.org/10.5061/dryad.37pvmcvgb</ext-link>.</p></sec><ref-list content-type=\"cited-references\" id=\"ece36303-bibl-0001\"><title>r']"
        ],
        [
         "5",
         "10.1002_ece3.9627",
         "test",
         "./kaggle/input/make-data-count-finding-data-references/test\\PDF\\10.1002_ece3.9627.pdf",
         "./kaggle/input/make-data-count-finding-data-references/test\\XML\\10.1002_ece3.9627.xml",
         "https://doi.org/10.5061/dryad.b8gtht7h3",
         "Primary",
         "10.5061/dryad.b8gth",
         "['has\\tearned\\topen\\tdata\\tand\\topen\\tmaterials\\tbadges.\\tdata\\tand\\tmaterials\\tare\\tavailable\\tat\\thttps://doi.org/10.5061/dryad.b8gtht7h3 .data availability statementall\\tr\\tcode\\tand\\tdata\\tused\\tto\\timplement\\tour\\tbayesian\\tco-\\tabundance\\tmo', 'ent\\tour\\tbayesian\\tco-\\tabundance\\tmodels\\tcan\\tbe\\taccessed\\tat\\tthis\\tfigshare\\trepository:\\t https://doi.org/10.5061/dryad.b8gtht7h3 .orcidzachary amir   https:/ /orcid.org/0000-0002-8398-2059  adia sovie   https://orcid.org/000']",
         "['nd open materials badges. data and materials are available at <ext-link xlink:href=\"https://doi.org/10.5061/dryad.b8gtht7h3\" ext-link-type=\"uri\">https://doi.org/10.5061/dryad.b8gtht7h3</ext-link>.</p></sec></sec><sec se', ' <ext-link xlink:href=\"https://doi.org/10.5061/dryad.b8gtht7h3\" ext-link-type=\"uri\">https://doi.org/10.5061/dryad.b8gtht7h3</ext-link>.</p></sec></sec><sec sec-type=\"supplementary-material\"><title>supporting information', 'm9.figshare.21619055\" ext-link-type=\"uri\" specific-use=\"dataset is-supplemented-by\">https://doi.org/10.5061/dryad.b8gtht7h3</ext-link>.</p></sec><ref-list content-type=\"cited-references\" id=\"ece39627-bibl-0001\"><title>r']"
        ],
        [
         "6",
         "10.1002_ecs2.1280",
         "test",
         "./kaggle/input/make-data-count-finding-data-references/test\\PDF\\10.1002_ecs2.1280.pdf",
         null,
         "https://doi.org/10.5061/dryad.p3fg9",
         "Primary",
         "10.5061/dryad.p3fg9",
         "['fo data availabilitydata associated with this paper have been deposited in dryad: http://dx.doi.org/10.5061/dryad.p3fg9         21508925, 2016, 5, downloaded from https://esajournals.onlinelibrary.wiley.com/doi/10.1002/']",
         ""
        ],
        [
         "7",
         "10.1002_ecs2.4619",
         "test",
         "./kaggle/input/make-data-count-finding-data-references/test\\PDF\\10.1002_ecs2.4619.pdf",
         "./kaggle/input/make-data-count-finding-data-references/test\\XML\\10.1002_ecs2.4619.xml",
         "https://doi.org/10.25349/d9qw5x",
         "Primary",
         "10.25349/d9qw5x",
         "['ilability statementdata and novel code (owens et al.,2023) are availablefrom dryad: https://doi.org/10.25349/d9qw5x .orcidcaroline h. owens https://orcid.org/0000-0002-1675-5702michelle j. lee https://orcid.org/0000', 'n temperature and predationimpact insect emergence in alpine lakes. ”dryad. dataset.https://doi.org/10.25349/d9qw5x .piovia-scott, j., s. sadro, r. a. knapp, j. sickman, k. l. pope, ands. chandra. 2016. “variation i']",
         "['<ref target=\"#b50\" type=\"bibr\">(owens et al., 2023)</ref> are available from dryad: https://doi.org/10.25349/d9qw5x.</s></p></div></div><div type=\"annex\"><div xmlns=\"http://www.tei-c.org/ns/1.0\">conflict of interest', 'ame><forename type=\"first\">h</forename><surname>young</surname></persname></author><idno type=\"doi\">10.25349/d9qw5x</idno><ptr target=\"https://doi.org/10.25349/d9qw5x\"></ptr></analytic><monogr><title level=\"j\">dryad', 'ng</surname></persname></author><idno type=\"doi\">10.25349/d9qw5x</idno><ptr target=\"https://doi.org/10.25349/d9qw5x\"></ptr></analytic><monogr><title level=\"j\">dryad. dataset</title><imprint><date type=\"published\" wh', 'temperature and predation impact insect emergence in alpine lakes.\" dryad. dataset. https://doi.org/10.25349/d9qw5x.</note></biblstruct><biblstruct xml:id=\"b51\"><analytic><title level=\"a\" type=\"main\">variation in re']"
        ],
        [
         "8",
         "10.1002_esp.5058",
         "test",
         "./kaggle/input/make-data-count-finding-data-references/test\\PDF\\10.1002_esp.5058.pdf",
         null,
         "https://doi.org/10.5061/dryad.jh9w0vt9t",
         "Primary",
         "10.5061/dryad.jh9w0",
         "['openly available [usgs data release] at http://doi.org/10.5066/p9fw6e8k and [dryad] https://doi.org/10.5061/dryad.jh9w0vt9t, respectively.orcidkattia rubi arnez ferrelhttps://orcid.org/0000-0003-1670-3272jonathan mark n']",
         ""
        ],
        [
         "9",
         "10.1002_esp.5090",
         "test",
         "./kaggle/input/make-data-count-finding-data-references/test\\PDF\\10.1002_esp.5090.pdf",
         "./kaggle/input/make-data-count-finding-data-references/test\\XML\\10.1002_esp.5090.xml",
         "https://doi.org/10.5066/p9353101",
         "Secondary",
         "10.5066/p9353101",
         "['015) running onthe university of iowa argon supercomputer. the dems are availableat https://doi.org/10.5066/p9353101, and the processing techniquesare described in the supplementary information provided by goldet al.']",
         "['on the university of iowa argon supercomputer. the dems are available at <url href=\"https://doi.org/10.5066/p9353101\">https://doi.org/10.5066/p9353101</url>, and the processing techniques are described in the supplem', 'percomputer. the dems are available at <url href=\"https://doi.org/10.5066/p9353101\">https://doi.org/10.5066/p9353101</url>, and the processing techniques are described in the supplementary information provided by gol']"
        ],
        [
         "10",
         "10.1002_mp.14424",
         "test",
         "./kaggle/input/make-data-count-finding-data-references/test\\PDF\\10.1002_mp.14424.pdf",
         "./kaggle/input/make-data-count-finding-data-references/test\\XML\\10.1002_mp.14424.xml",
         "https://doi.org/10.7937/k9/tcia.2015.pf0m9rei",
         "Secondary",
         "10.7937/k9/tcia.2015.pf0m9rei",
         "['et al. data from nsclc-radio-mics [dataset]. in: the cancer imaging archive ; 2019. https://doi.org/10.7937/k9/tcia.2015.pf0m9rei23. aerts hj, velazquez er, leijenaar rt, et al. decoding tumour pheno-type by noninvasive imaging u']",
         "['title>. in: <italic>the cancer imaging archive</italic>; <year>2019</year><pub-id pub-id-type=\"doi\">10.7937/k9/tcia.2015.pf0m9rei</pub-id></mixed-citation></ref><ref id=\"mp14424-bib-0023\"><label>23</label><mixed-citation publicat']"
        ],
        [
         "11",
         "10.1002_mp.14424",
         "test",
         "./kaggle/input/make-data-count-finding-data-references/test\\PDF\\10.1002_mp.14424.pdf",
         "./kaggle/input/make-data-count-finding-data-references/test\\XML\\10.1002_mp.14424.xml",
         "https://doi.org/10.7937/tcia.2020.6c7y-gq39",
         "Primary",
         "10.7937/tcia.2020.6c7y-gq39",
         "['tationsare publicly available in nifti format through the cancer imaging archive at https://doi.org/10.7937/tcia.2020.6c7y-gq39. tabular data detailing clinical and technical metadata linked to segmenta-tion cases are also avai', 'horaciccavity and pleural effusion segmentations have been madeavailable on tcia at https://doi.org/10.7937/tcia.2020.6c7y-gq39.51thoracic cavity segmentations are in a compressednifti format, are named for their respective cas', 'sponding clinical and technicalmetadata made available to the public through tcia athttps://doi.org/10.7937/tcia.2020.6c7y-gq39.51these seg-mentations have value for preprocessing steps in image analy-sis pipelines built for fu', 'rking chestct processing pipelines [dataset]. in: the cancer imaging archive ;2020. https://doi.org/10.7937/tcia.2020.6c7y-gq3952. ronneberger o, fischer p, brox t. u-net: convolutional networks forbiomedical image segmentation']",
         "['mat through the cancer imaging archive at <ext-link ext-link-type=\"uri\" xlink:href=\"https://doi.org/10.7937/tcia.2020.6c7y-gq39\">https://doi.org/10.7937/tcia.2020.6c7y&#x02010;gq39</ext-link>. tabular data detailing clinical an', 'tions have been made available on tcia at <ext-link ext-link-type=\"uri\" xlink:href=\"https://doi.org/10.7937/tcia.2020.6c7y-gq39\">https://doi.org/10.7937/tcia.2020.6c7y&#x02010;gq39</ext-link>.<xref rid=\"mp14424-bib-0051\" ref-ty', 'e available to the public through tcia at <ext-link ext-link-type=\"uri\" xlink:href=\"https://doi.org/10.7937/tcia.2020.6c7y-gq39\">https://doi.org/10.7937/tcia.2020.6c7y&#x02010;gq39</ext-link>.<xref rid=\"mp14424-bib-0051\" ref-ty', 'title>. in: <italic>the cancer imaging archive</italic>; <year>2020</year><pub-id pub-id-type=\"doi\">10.7937/tcia.2020.6c7y-gq39</pub-id></mixed-citation></ref><ref id=\"mp14424-bib-0052\"><label>52</label><mixed-citation publicat']"
        ],
        [
         "12",
         "10.1002_nafm.10870",
         "test",
         "./kaggle/input/make-data-count-finding-data-references/test\\PDF\\10.1002_nafm.10870.pdf",
         null,
         "https://doi.org/10.5066/p9gtumay",
         "Primary",
         "10.5066/p9gtumay",
         "['reat lakes tributaries, 2017– 2018. u.s. geological survey data release. available: https://doi.org/10.5066/p9gtumay .kočovský, p. m., n. r. king, c. m. merkes, and t. m. schreier. 2018. developmental stages of grass']",
         ""
        ]
       ],
       "shape": {
        "columns": 9,
        "rows": 13
       }
      },
      "text/html": [
       "<div>\n",
       "<style scoped>\n",
       "    .dataframe tbody tr th:only-of-type {\n",
       "        vertical-align: middle;\n",
       "    }\n",
       "\n",
       "    .dataframe tbody tr th {\n",
       "        vertical-align: top;\n",
       "    }\n",
       "\n",
       "    .dataframe thead th {\n",
       "        text-align: right;\n",
       "    }\n",
       "</style>\n",
       "<table border=\"1\" class=\"dataframe\">\n",
       "  <thead>\n",
       "    <tr style=\"text-align: right;\">\n",
       "      <th></th>\n",
       "      <th>article_id</th>\n",
       "      <th>data_type_name</th>\n",
       "      <th>article_file_path_pdf</th>\n",
       "      <th>article_file_path_xml</th>\n",
       "      <th>dataset_id</th>\n",
       "      <th>type</th>\n",
       "      <th>dataset_id_norm</th>\n",
       "      <th>pdf_text</th>\n",
       "      <th>xml_text</th>\n",
       "    </tr>\n",
       "  </thead>\n",
       "  <tbody>\n",
       "    <tr>\n",
       "      <th>0</th>\n",
       "      <td>10.1002_2017jc013030</td>\n",
       "      <td>test</td>\n",
       "      <td>./kaggle/input/make-data-count-finding-data-re...</td>\n",
       "      <td>./kaggle/input/make-data-count-finding-data-re...</td>\n",
       "      <td>https://doi.org/10.17882/49388</td>\n",
       "      <td>Primary</td>\n",
       "      <td>10.17882/49388</td>\n",
       "      <td>[al argo ﬂoat measurements for biogeochemical ...</td>\n",
       "      <td>[f&gt; (doi:10.17882/47142)&lt;/s&gt;&lt;s&gt;and &lt;ref target...</td>\n",
       "    </tr>\n",
       "    <tr>\n",
       "      <th>1</th>\n",
       "      <td>10.1002_ece3.4466</td>\n",
       "      <td>test</td>\n",
       "      <td>./kaggle/input/make-data-count-finding-data-re...</td>\n",
       "      <td>./kaggle/input/make-data-count-finding-data-re...</td>\n",
       "      <td>https://doi.org/10.5061/dryad.r6nq870</td>\n",
       "      <td>Primary</td>\n",
       "      <td>10.5061/dryad.r6nq8</td>\n",
       "      <td>[cation.data accessibilitythe dataset supporti...</td>\n",
       "      <td>[rting this article are available in dryad &lt;ex...</td>\n",
       "    </tr>\n",
       "    <tr>\n",
       "      <th>2</th>\n",
       "      <td>10.1002_ece3.5260</td>\n",
       "      <td>test</td>\n",
       "      <td>./kaggle/input/make-data-count-finding-data-re...</td>\n",
       "      <td>./kaggle/input/make-data-count-finding-data-re...</td>\n",
       "      <td>https://doi.org/10.5061/dryad.2f62927</td>\n",
       "      <td>Primary</td>\n",
       "      <td>10.5061/dryad.2f629</td>\n",
       "      <td>[or probe design experiments and adephaga_2.9k...</td>\n",
       "      <td>[ed/bam files for probe design experiments and...</td>\n",
       "    </tr>\n",
       "    <tr>\n",
       "      <th>3</th>\n",
       "      <td>10.1002_ece3.6144</td>\n",
       "      <td>test</td>\n",
       "      <td>./kaggle/input/make-data-count-finding-data-re...</td>\n",
       "      <td>./kaggle/input/make-data-count-finding-data-re...</td>\n",
       "      <td>https://doi.org/10.5061/dryad.zw3r22854</td>\n",
       "      <td>Primary</td>\n",
       "      <td>10.5061/dryad.zw3r2</td>\n",
       "      <td>[gator.data availability statementdata are ava...</td>\n",
       "      <td>[available at dryad digital repository at: &lt;ex...</td>\n",
       "    </tr>\n",
       "    <tr>\n",
       "      <th>4</th>\n",
       "      <td>10.1002_ece3.6303</td>\n",
       "      <td>test</td>\n",
       "      <td>./kaggle/input/make-data-count-finding-data-re...</td>\n",
       "      <td>./kaggle/input/make-data-count-finding-data-re...</td>\n",
       "      <td>https://doi.org/10.5061/dryad.37pvmcvgb</td>\n",
       "      <td>Primary</td>\n",
       "      <td>10.5061/dryad.37pvm</td>\n",
       "      <td>[ data that support the findings of this study...</td>\n",
       "      <td>[udy have been deposited in dryad with doi:&lt;ex...</td>\n",
       "    </tr>\n",
       "    <tr>\n",
       "      <th>5</th>\n",
       "      <td>10.1002_ece3.9627</td>\n",
       "      <td>test</td>\n",
       "      <td>./kaggle/input/make-data-count-finding-data-re...</td>\n",
       "      <td>./kaggle/input/make-data-count-finding-data-re...</td>\n",
       "      <td>https://doi.org/10.5061/dryad.b8gtht7h3</td>\n",
       "      <td>Primary</td>\n",
       "      <td>10.5061/dryad.b8gth</td>\n",
       "      <td>[has\\tearned\\topen\\tdata\\tand\\topen\\tmaterials...</td>\n",
       "      <td>[nd open materials badges. data and materials ...</td>\n",
       "    </tr>\n",
       "    <tr>\n",
       "      <th>6</th>\n",
       "      <td>10.1002_ecs2.1280</td>\n",
       "      <td>test</td>\n",
       "      <td>./kaggle/input/make-data-count-finding-data-re...</td>\n",
       "      <td>NaN</td>\n",
       "      <td>https://doi.org/10.5061/dryad.p3fg9</td>\n",
       "      <td>Primary</td>\n",
       "      <td>10.5061/dryad.p3fg9</td>\n",
       "      <td>[fo data availabilitydata associated with this...</td>\n",
       "      <td></td>\n",
       "    </tr>\n",
       "    <tr>\n",
       "      <th>7</th>\n",
       "      <td>10.1002_ecs2.4619</td>\n",
       "      <td>test</td>\n",
       "      <td>./kaggle/input/make-data-count-finding-data-re...</td>\n",
       "      <td>./kaggle/input/make-data-count-finding-data-re...</td>\n",
       "      <td>https://doi.org/10.25349/d9qw5x</td>\n",
       "      <td>Primary</td>\n",
       "      <td>10.25349/d9qw5x</td>\n",
       "      <td>[ilability statementdata and novel code (owens...</td>\n",
       "      <td>[&lt;ref target=\"#b50\" type=\"bibr\"&gt;(owens et al.,...</td>\n",
       "    </tr>\n",
       "    <tr>\n",
       "      <th>8</th>\n",
       "      <td>10.1002_esp.5058</td>\n",
       "      <td>test</td>\n",
       "      <td>./kaggle/input/make-data-count-finding-data-re...</td>\n",
       "      <td>NaN</td>\n",
       "      <td>https://doi.org/10.5061/dryad.jh9w0vt9t</td>\n",
       "      <td>Primary</td>\n",
       "      <td>10.5061/dryad.jh9w0</td>\n",
       "      <td>[openly available [usgs data release] at http:...</td>\n",
       "      <td></td>\n",
       "    </tr>\n",
       "    <tr>\n",
       "      <th>9</th>\n",
       "      <td>10.1002_esp.5090</td>\n",
       "      <td>test</td>\n",
       "      <td>./kaggle/input/make-data-count-finding-data-re...</td>\n",
       "      <td>./kaggle/input/make-data-count-finding-data-re...</td>\n",
       "      <td>https://doi.org/10.5066/p9353101</td>\n",
       "      <td>Secondary</td>\n",
       "      <td>10.5066/p9353101</td>\n",
       "      <td>[015) running onthe university of iowa argon s...</td>\n",
       "      <td>[on the university of iowa argon supercomputer...</td>\n",
       "    </tr>\n",
       "    <tr>\n",
       "      <th>10</th>\n",
       "      <td>10.1002_mp.14424</td>\n",
       "      <td>test</td>\n",
       "      <td>./kaggle/input/make-data-count-finding-data-re...</td>\n",
       "      <td>./kaggle/input/make-data-count-finding-data-re...</td>\n",
       "      <td>https://doi.org/10.7937/k9/tcia.2015.pf0m9rei</td>\n",
       "      <td>Secondary</td>\n",
       "      <td>10.7937/k9/tcia.2015.pf0m9rei</td>\n",
       "      <td>[et al. data from nsclc-radio-mics [dataset]. ...</td>\n",
       "      <td>[title&gt;. in: &lt;italic&gt;the cancer imaging archiv...</td>\n",
       "    </tr>\n",
       "    <tr>\n",
       "      <th>11</th>\n",
       "      <td>10.1002_mp.14424</td>\n",
       "      <td>test</td>\n",
       "      <td>./kaggle/input/make-data-count-finding-data-re...</td>\n",
       "      <td>./kaggle/input/make-data-count-finding-data-re...</td>\n",
       "      <td>https://doi.org/10.7937/tcia.2020.6c7y-gq39</td>\n",
       "      <td>Primary</td>\n",
       "      <td>10.7937/tcia.2020.6c7y-gq39</td>\n",
       "      <td>[tationsare publicly available in nifti format...</td>\n",
       "      <td>[mat through the cancer imaging archive at &lt;ex...</td>\n",
       "    </tr>\n",
       "    <tr>\n",
       "      <th>12</th>\n",
       "      <td>10.1002_nafm.10870</td>\n",
       "      <td>test</td>\n",
       "      <td>./kaggle/input/make-data-count-finding-data-re...</td>\n",
       "      <td>NaN</td>\n",
       "      <td>https://doi.org/10.5066/p9gtumay</td>\n",
       "      <td>Primary</td>\n",
       "      <td>10.5066/p9gtumay</td>\n",
       "      <td>[reat lakes tributaries, 2017– 2018. u.s. geol...</td>\n",
       "      <td></td>\n",
       "    </tr>\n",
       "  </tbody>\n",
       "</table>\n",
       "</div>"
      ],
      "text/plain": [
       "              article_id data_type_name  \\\n",
       "0   10.1002_2017jc013030           test   \n",
       "1      10.1002_ece3.4466           test   \n",
       "2      10.1002_ece3.5260           test   \n",
       "3      10.1002_ece3.6144           test   \n",
       "4      10.1002_ece3.6303           test   \n",
       "5      10.1002_ece3.9627           test   \n",
       "6      10.1002_ecs2.1280           test   \n",
       "7      10.1002_ecs2.4619           test   \n",
       "8       10.1002_esp.5058           test   \n",
       "9       10.1002_esp.5090           test   \n",
       "10      10.1002_mp.14424           test   \n",
       "11      10.1002_mp.14424           test   \n",
       "12    10.1002_nafm.10870           test   \n",
       "\n",
       "                                article_file_path_pdf  \\\n",
       "0   ./kaggle/input/make-data-count-finding-data-re...   \n",
       "1   ./kaggle/input/make-data-count-finding-data-re...   \n",
       "2   ./kaggle/input/make-data-count-finding-data-re...   \n",
       "3   ./kaggle/input/make-data-count-finding-data-re...   \n",
       "4   ./kaggle/input/make-data-count-finding-data-re...   \n",
       "5   ./kaggle/input/make-data-count-finding-data-re...   \n",
       "6   ./kaggle/input/make-data-count-finding-data-re...   \n",
       "7   ./kaggle/input/make-data-count-finding-data-re...   \n",
       "8   ./kaggle/input/make-data-count-finding-data-re...   \n",
       "9   ./kaggle/input/make-data-count-finding-data-re...   \n",
       "10  ./kaggle/input/make-data-count-finding-data-re...   \n",
       "11  ./kaggle/input/make-data-count-finding-data-re...   \n",
       "12  ./kaggle/input/make-data-count-finding-data-re...   \n",
       "\n",
       "                                article_file_path_xml  \\\n",
       "0   ./kaggle/input/make-data-count-finding-data-re...   \n",
       "1   ./kaggle/input/make-data-count-finding-data-re...   \n",
       "2   ./kaggle/input/make-data-count-finding-data-re...   \n",
       "3   ./kaggle/input/make-data-count-finding-data-re...   \n",
       "4   ./kaggle/input/make-data-count-finding-data-re...   \n",
       "5   ./kaggle/input/make-data-count-finding-data-re...   \n",
       "6                                                 NaN   \n",
       "7   ./kaggle/input/make-data-count-finding-data-re...   \n",
       "8                                                 NaN   \n",
       "9   ./kaggle/input/make-data-count-finding-data-re...   \n",
       "10  ./kaggle/input/make-data-count-finding-data-re...   \n",
       "11  ./kaggle/input/make-data-count-finding-data-re...   \n",
       "12                                                NaN   \n",
       "\n",
       "                                       dataset_id       type  \\\n",
       "0                  https://doi.org/10.17882/49388    Primary   \n",
       "1           https://doi.org/10.5061/dryad.r6nq870    Primary   \n",
       "2           https://doi.org/10.5061/dryad.2f62927    Primary   \n",
       "3         https://doi.org/10.5061/dryad.zw3r22854    Primary   \n",
       "4         https://doi.org/10.5061/dryad.37pvmcvgb    Primary   \n",
       "5         https://doi.org/10.5061/dryad.b8gtht7h3    Primary   \n",
       "6             https://doi.org/10.5061/dryad.p3fg9    Primary   \n",
       "7                 https://doi.org/10.25349/d9qw5x    Primary   \n",
       "8         https://doi.org/10.5061/dryad.jh9w0vt9t    Primary   \n",
       "9                https://doi.org/10.5066/p9353101  Secondary   \n",
       "10  https://doi.org/10.7937/k9/tcia.2015.pf0m9rei  Secondary   \n",
       "11    https://doi.org/10.7937/tcia.2020.6c7y-gq39    Primary   \n",
       "12               https://doi.org/10.5066/p9gtumay    Primary   \n",
       "\n",
       "                  dataset_id_norm  \\\n",
       "0                  10.17882/49388   \n",
       "1             10.5061/dryad.r6nq8   \n",
       "2             10.5061/dryad.2f629   \n",
       "3             10.5061/dryad.zw3r2   \n",
       "4             10.5061/dryad.37pvm   \n",
       "5             10.5061/dryad.b8gth   \n",
       "6             10.5061/dryad.p3fg9   \n",
       "7                 10.25349/d9qw5x   \n",
       "8             10.5061/dryad.jh9w0   \n",
       "9                10.5066/p9353101   \n",
       "10  10.7937/k9/tcia.2015.pf0m9rei   \n",
       "11    10.7937/tcia.2020.6c7y-gq39   \n",
       "12               10.5066/p9gtumay   \n",
       "\n",
       "                                             pdf_text  \\\n",
       "0   [al argo ﬂoat measurements for biogeochemical ...   \n",
       "1   [cation.data accessibilitythe dataset supporti...   \n",
       "2   [or probe design experiments and adephaga_2.9k...   \n",
       "3   [gator.data availability statementdata are ava...   \n",
       "4   [ data that support the findings of this study...   \n",
       "5   [has\\tearned\\topen\\tdata\\tand\\topen\\tmaterials...   \n",
       "6   [fo data availabilitydata associated with this...   \n",
       "7   [ilability statementdata and novel code (owens...   \n",
       "8   [openly available [usgs data release] at http:...   \n",
       "9   [015) running onthe university of iowa argon s...   \n",
       "10  [et al. data from nsclc-radio-mics [dataset]. ...   \n",
       "11  [tationsare publicly available in nifti format...   \n",
       "12  [reat lakes tributaries, 2017– 2018. u.s. geol...   \n",
       "\n",
       "                                             xml_text  \n",
       "0   [f> (doi:10.17882/47142)</s><s>and <ref target...  \n",
       "1   [rting this article are available in dryad <ex...  \n",
       "2   [ed/bam files for probe design experiments and...  \n",
       "3   [available at dryad digital repository at: <ex...  \n",
       "4   [udy have been deposited in dryad with doi:<ex...  \n",
       "5   [nd open materials badges. data and materials ...  \n",
       "6                                                      \n",
       "7   [<ref target=\"#b50\" type=\"bibr\">(owens et al.,...  \n",
       "8                                                      \n",
       "9   [on the university of iowa argon supercomputer...  \n",
       "10  [title>. in: <italic>the cancer imaging archiv...  \n",
       "11  [mat through the cancer imaging archive at <ex...  \n",
       "12                                                     "
      ]
     },
     "execution_count": 302,
     "metadata": {},
     "output_type": "execute_result"
    }
   ],
   "source": [
    "file_text_df_2 = get_file_text(test_df)\n",
    "file_text_df_2"
   ]
  }
 ],
 "metadata": {
  "kaggle": {
   "accelerator": "none",
   "dataSources": [
    {
     "databundleVersionId": 12656064,
     "sourceId": 82370,
     "sourceType": "competition"
    }
   ],
   "dockerImageVersionId": 31040,
   "isGpuEnabled": false,
   "isInternetEnabled": false,
   "language": "python",
   "sourceType": "notebook"
  },
  "kernelspec": {
   "display_name": ".venv",
   "language": "python",
   "name": "python3"
  },
  "language_info": {
   "codemirror_mode": {
    "name": "ipython",
    "version": 3
   },
   "file_extension": ".py",
   "mimetype": "text/x-python",
   "name": "python",
   "nbconvert_exporter": "python",
   "pygments_lexer": "ipython3",
   "version": "3.13.3"
  }
 },
 "nbformat": 4,
 "nbformat_minor": 4
}
