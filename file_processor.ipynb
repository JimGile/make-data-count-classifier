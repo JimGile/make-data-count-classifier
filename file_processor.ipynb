{
 "cells": [
  {
   "cell_type": "code",
   "execution_count": 55,
   "id": "11b5173d",
   "metadata": {},
   "outputs": [],
   "source": [
    "import os\n",
    "import spacy\n",
    "import pandas as pd\n",
    "import spacy\n",
    "\n",
    "NLP_SPACY = spacy.load(\"en_core_web_sm\")\n",
    "\n"
   ]
  },
  {
   "cell_type": "code",
   "execution_count": 56,
   "id": "7ff1fba7",
   "metadata": {},
   "outputs": [],
   "source": [
    "# Import classes from local utility file\n",
    "import mdc_data_processing_utils\n",
    "\n",
    "# If mdc_data_processing_utils.py has been changed and saved.\n",
    "# To load the changes without restarting the kernel:\n",
    "import importlib\n",
    "importlib.reload(mdc_data_processing_utils)\n",
    "\n",
    "# Now, any calls to functions from mdc_data_processing_utils\n",
    "# will use the newly reloaded code.\n",
    "from mdc_data_processing_utils import (\n",
    "    ArticleData,\n",
    "    MdcFileTextExtractor,\n",
    "    ConcurrentFileProcessor,\n",
    ")\n"
   ]
  },
  {
   "cell_type": "code",
   "execution_count": 57,
   "id": "2bc7246a",
   "metadata": {},
   "outputs": [],
   "source": [
    "# Define constants for file paths and model configurations\n",
    "BASE_INPUT_DIR = './kaggle/input/make-data-count-finding-data-references'\n",
    "BASE_OUTPUT_DIR = \"./kaggle/working\"\n",
    "\n",
    "# Define directories for articles in train and test sets\n",
    "TRAIN_DATA_DIR = os.path.join(BASE_INPUT_DIR, 'train')\n",
    "TEST_DATA_DIR = os.path.join(BASE_INPUT_DIR, 'test')\n",
    "TRAIN_LABELS_PATH = os.path.join(BASE_INPUT_DIR, 'train_labels.csv')"
   ]
  },
  {
   "cell_type": "code",
   "execution_count": 58,
   "id": "6b1a454f",
   "metadata": {},
   "outputs": [
    {
     "name": "stdout",
     "output_type": "stream",
     "text": [
      "Loading labeled training data from: ./kaggle/input/make-data-count-finding-data-references\\train_labels.csv\n",
      "Training labels shape: (1028, 3)\n",
      "Example grouped training data for article_id '10.1002_2017jc013030': [{'dataset_id': 'https://doi.org/10.17882/49388', 'type': 'Primary'}]\n",
      "Files paths shape: (1, 5)\n"
     ]
    }
   ],
   "source": [
    "def load_file_paths(dataset_type_dir: str) -> pd.DataFrame: \n",
    "    pdf_path = os.path.join(dataset_type_dir, 'PDF')\n",
    "    xml_path = os.path.join(dataset_type_dir, 'XML')\n",
    "    dataset_type = os.path.basename(dataset_type_dir)\n",
    "    pdf_files = [f for f in os.listdir(pdf_path) if f.endswith('.pdf')]\n",
    "    xml_files = [f for f in os.listdir(xml_path) if f.endswith('.xml')]\n",
    "    df_pdf = pd.DataFrame({\n",
    "        'article_id': [f.replace('.pdf', '') for f in pdf_files],\n",
    "        'pdf_file_path': [os.path.join(pdf_path, f) for f in pdf_files]\n",
    "    })\n",
    "    df_xml = pd.DataFrame({\n",
    "        'article_id': [f.replace('.xml', '') for f in xml_files],\n",
    "        'xml_file_path': [os.path.join(xml_path, f) for f in xml_files]\n",
    "    })\n",
    "    merge_df = pd.merge(df_pdf, df_xml, on='article_id', how='outer', suffixes=('_pdf', '_xml'), validate=\"one_to_many\")\n",
    "    merge_df['dataset_type'] = dataset_type\n",
    "    return merge_df\n",
    "\n",
    "# Load the labeled training data CSV file\n",
    "print(f\"Loading labeled training data from: {TRAIN_LABELS_PATH}\")\n",
    "train_labels_df = pd.read_csv(TRAIN_LABELS_PATH)\n",
    "print(f\"Training labels shape: {train_labels_df.shape}\")\n",
    "\n",
    "# Group training data by article_id to get all datasets for each article\n",
    "# This creates a dictionary where keys are article_ids and values are lists of dataset dicts\n",
    "grouped_training_data = {}\n",
    "for article_id, group_df in train_labels_df.groupby('article_id'):\n",
    "    grouped_training_data[article_id] = group_df[['dataset_id', 'type']].to_dict('records')\n",
    "\n",
    "# Example usage of grouped_training_data\n",
    "print(f\"Example grouped training data for article_id '10.1002_2017jc013030': {grouped_training_data['10.1002_2017jc013030']}\")\n",
    "\n",
    "# Just for testing, always set to the TEST_DATA_DIR\n",
    "base_file_dir = TEST_DATA_DIR\n",
    "\n",
    "# Load file paths for base directory\n",
    "file_paths_df = load_file_paths(base_file_dir)\n",
    "file_paths_df['pdf_file_path'] = file_paths_df['pdf_file_path'].fillna('')\n",
    "file_paths_df['xml_file_path'] = file_paths_df['xml_file_path'].fillna('')\n",
    "file_paths_df = file_paths_df[file_paths_df['article_id'] == '10.1002_2017jc013030']\n",
    "\n",
    "# Merge the file paths with the grouped_training_data\n",
    "file_paths_df['ground_truth_dataset_info'] = file_paths_df['article_id'].map(grouped_training_data)\n",
    "file_paths_df['ground_truth_dataset_info'] = file_paths_df['ground_truth_dataset_info'].fillna('')\n",
    "\n",
    "# Reduce the file paths DataFrame to only those with ground truth dataset info and get a sample\n",
    "# This is to ensure we have a manageable dataset for training\n",
    "file_paths_df = file_paths_df[file_paths_df['ground_truth_dataset_info'].astype(bool)]\n",
    "file_paths_df = file_paths_df.reset_index(drop=True)\n",
    "# file_paths_df = file_paths_df.sample(frac=.1, random_state=42).reset_index(drop=True)  # Shuffle the DataFrame\n",
    "print(f\"Files paths shape: {file_paths_df.shape}\")\n",
    "# display(file_paths_df.sample(3))"
   ]
  },
  {
   "cell_type": "code",
   "execution_count": 59,
   "id": "d7387d13",
   "metadata": {},
   "outputs": [
    {
     "name": "stdout",
     "output_type": "stream",
     "text": [
      "1\n",
      "1\n"
     ]
    }
   ],
   "source": [
    "filepaths = list(file_paths_df['pdf_file_path'])\n",
    "ground_truth_list_of_lists = list(file_paths_df['ground_truth_dataset_info'])\n",
    "print(len(filepaths))\n",
    "print(len(ground_truth_list_of_lists))\n",
    "# print(gt_list_of_lists[4][1])\n"
   ]
  },
  {
   "cell_type": "code",
   "execution_count": 60,
   "id": "625779d7",
   "metadata": {},
   "outputs": [
    {
     "name": "stdout",
     "output_type": "stream",
     "text": [
      "\n",
      "\n",
      "===== DEMO 1: Processing PDFs for inference with Markdown Timeout =====\n",
      "\n",
      "--- Starting Concurrent File Processing For Inference Data ---\n"
     ]
    },
    {
     "data": {
      "application/vnd.jupyter.widget-view+json": {
       "model_id": "43f815baea814c8db593962ef69b1194",
       "version_major": 2,
       "version_minor": 0
      },
      "text/plain": [
       "  0%|          | 0/1 [00:00<?, ?it/s]"
      ]
     },
     "metadata": {},
     "output_type": "display_data"
    },
    {
     "name": "stdout",
     "output_type": "stream",
     "text": [
      "Processing 10.1002_2017jc013030.pdf...\n",
      "Saved article_data for 10.1002_2017jc013030.pdf.\n",
      "Inference Data processing finished in 2.51 seconds.\n",
      "\n",
      "\n",
      "===== DEMO 2: Processing PDFs for training with Markdown Timeout =====\n",
      "\n",
      "--- Starting Concurrent File Processing For Training Data ---\n"
     ]
    },
    {
     "data": {
      "application/vnd.jupyter.widget-view+json": {
       "model_id": "c8d4c72b538b47509fd951dca612d42e",
       "version_major": 2,
       "version_minor": 0
      },
      "text/plain": [
       "  0%|          | 0/1 [00:00<?, ?it/s]"
      ]
     },
     "metadata": {},
     "output_type": "display_data"
    },
    {
     "name": "stdout",
     "output_type": "stream",
     "text": [
      "Processing 10.1002_2017jc013030.pdf...\n",
      "Saved article_data for 10.1002_2017jc013030.pdf.\n",
      "Training Data processing finished in 2.44 seconds.\n"
     ]
    }
   ],
   "source": [
    "\n",
    "# --- Demonstration ---\n",
    "if __name__ == \"__main__\":\n",
    "\n",
    "    # --- DEMO 1: Process filepaths concurrently for inference ---\n",
    "    print(\"\\n\\n===== DEMO 1: Processing PDFs for inference with Markdown Timeout =====\")\n",
    "    concurrent_pdf_processor = ConcurrentFileProcessor(NLP_SPACY, max_workers=4) \n",
    "    concurrent_pdf_processor.process_files_for_inference(\n",
    "        filepaths,\n",
    "        markdown_timeout_seconds=3.0 # Specific argument for PDF logic\n",
    "    )\n",
    "\n",
    "    # --- DEMO 2: Process PDFs concurrently with timeout ---\n",
    "    print(\"\\n\\n===== DEMO 2: Processing PDFs for training with Markdown Timeout =====\")\n",
    "    concurrent_pdf_processor.process_files_for_training(\n",
    "        filepaths,\n",
    "        ground_truth_list_of_lists,\n",
    "        markdown_timeout_seconds=3.0 # Specific argument for PDF logic\n",
    "    )\n",
    "\n"
   ]
  }
 ],
 "metadata": {
  "kernelspec": {
   "display_name": ".venv",
   "language": "python",
   "name": "python3"
  },
  "language_info": {
   "codemirror_mode": {
    "name": "ipython",
    "version": 3
   },
   "file_extension": ".py",
   "mimetype": "text/x-python",
   "name": "python",
   "nbconvert_exporter": "python",
   "pygments_lexer": "ipython3",
   "version": "3.13.3"
  }
 },
 "nbformat": 4,
 "nbformat_minor": 5
}
