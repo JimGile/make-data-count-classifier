{
 "cells": [
  {
   "cell_type": "code",
   "execution_count": 3,
   "id": "6ec93052",
   "metadata": {},
   "outputs": [
    {
     "ename": "KeyboardInterrupt",
     "evalue": "",
     "output_type": "error",
     "traceback": [
      "\u001b[31m---------------------------------------------------------------------------\u001b[39m",
      "\u001b[31mKeyboardInterrupt\u001b[39m                         Traceback (most recent call last)",
      "\u001b[36mCell\u001b[39m\u001b[36m \u001b[39m\u001b[32mIn[3]\u001b[39m\u001b[32m, line 19\u001b[39m\n\u001b[32m     16\u001b[39m pdf_file_path = os.path.join(TEST_DATA_DIR, \u001b[33m'\u001b[39m\u001b[33mPDF\u001b[39m\u001b[33m'\u001b[39m, \u001b[33m'\u001b[39m\u001b[33m10.1002_ece3.5260.pdf\u001b[39m\u001b[33m'\u001b[39m)\n\u001b[32m     17\u001b[39m pdf_file_path = os.path.join(TRAIN_DATA_DIR, \u001b[33m'\u001b[39m\u001b[33mPDF\u001b[39m\u001b[33m'\u001b[39m, \u001b[33m'\u001b[39m\u001b[33m10.7554_elife.29944.pdf\u001b[39m\u001b[33m'\u001b[39m)\n\u001b[32m---> \u001b[39m\u001b[32m19\u001b[39m md_text: \u001b[38;5;28mstr\u001b[39m = \u001b[43mpymupdf4llm\u001b[49m\u001b[43m.\u001b[49m\u001b[43mto_markdown\u001b[49m\u001b[43m(\u001b[49m\u001b[43mpdf_file_path\u001b[49m\u001b[43m,\u001b[49m\u001b[43m \u001b[49m\u001b[43mignore_images\u001b[49m\u001b[43m=\u001b[49m\u001b[38;5;28;43;01mTrue\u001b[39;49;00m\u001b[43m,\u001b[49m\u001b[43m \u001b[49m\u001b[43mignore_graphics\u001b[49m\u001b[43m=\u001b[49m\u001b[38;5;28;43;01mTrue\u001b[39;49;00m\u001b[43m,\u001b[49m\u001b[43m \u001b[49m\u001b[43mignore_code\u001b[49m\u001b[43m=\u001b[49m\u001b[38;5;28;43;01mTrue\u001b[39;49;00m\u001b[43m)\u001b[49m\n\u001b[32m     20\u001b[39m \u001b[38;5;28mprint\u001b[39m(\u001b[38;5;28mlen\u001b[39m(md_text))\n\u001b[32m     22\u001b[39m abstract_match = re.search(\u001b[33mr\u001b[39m\u001b[33m\"\u001b[39m\u001b[33mAbstract\u001b[39m\u001b[33m\\\u001b[39m\u001b[33ms*(.*?)(?=\u001b[39m\u001b[33m\\\u001b[39m\u001b[33mn\u001b[39m\u001b[33m\\\u001b[39m\u001b[33mn|\u001b[39m\u001b[33m\\\u001b[39m\u001b[33mZ)\u001b[39m\u001b[33m\"\u001b[39m, md_text, re.IGNORECASE | re.DOTALL)\n",
      "\u001b[36mFile \u001b[39m\u001b[32mc:\\Data\\Projects\\make-data-count-classifier\\.venv\\Lib\\site-packages\\pymupdf4llm\\helpers\\pymupdf_rag.py:1190\u001b[39m, in \u001b[36mto_markdown\u001b[39m\u001b[34m(doc, pages, hdr_info, write_images, embed_images, ignore_images, ignore_graphics, image_path, image_format, image_size_limit, filename, force_text, page_chunks, margins, dpi, page_width, page_height, table_strategy, graphics_limit, fontsize_limit, ignore_code, extract_words, show_progress, use_glyphs, ignore_alpha)\u001b[39m\n\u001b[32m   1188\u001b[39m     pages = ProgressBar(pages)\n\u001b[32m   1189\u001b[39m \u001b[38;5;28;01mfor\u001b[39;00m pno \u001b[38;5;129;01min\u001b[39;00m pages:\n\u001b[32m-> \u001b[39m\u001b[32m1190\u001b[39m     parms = \u001b[43mget_page_output\u001b[49m\u001b[43m(\u001b[49m\n\u001b[32m   1191\u001b[39m \u001b[43m        \u001b[49m\u001b[43mdoc\u001b[49m\u001b[43m,\u001b[49m\u001b[43m \u001b[49m\u001b[43mpno\u001b[49m\u001b[43m,\u001b[49m\u001b[43m \u001b[49m\u001b[43mmargins\u001b[49m\u001b[43m,\u001b[49m\u001b[43m \u001b[49m\u001b[43mtextflags\u001b[49m\u001b[43m,\u001b[49m\u001b[43m \u001b[49m\u001b[43mFILENAME\u001b[49m\u001b[43m,\u001b[49m\u001b[43m \u001b[49m\u001b[43mIGNORE_IMAGES\u001b[49m\u001b[43m,\u001b[49m\u001b[43m \u001b[49m\u001b[43mIGNORE_GRAPHICS\u001b[49m\n\u001b[32m   1192\u001b[39m \u001b[43m    \u001b[49m\u001b[43m)\u001b[49m\n\u001b[32m   1193\u001b[39m     \u001b[38;5;28;01mif\u001b[39;00m page_chunks \u001b[38;5;129;01mis\u001b[39;00m \u001b[38;5;28;01mFalse\u001b[39;00m:\n\u001b[32m   1194\u001b[39m         document_output += parms.md_string\n",
      "\u001b[36mFile \u001b[39m\u001b[32mc:\\Data\\Projects\\make-data-count-classifier\\.venv\\Lib\\site-packages\\pymupdf4llm\\helpers\\pymupdf_rag.py:1096\u001b[39m, in \u001b[36mto_markdown.<locals>.get_page_output\u001b[39m\u001b[34m(doc, pno, margins, textflags, FILENAME, IGNORE_IMAGES, IGNORE_GRAPHICS)\u001b[39m\n\u001b[32m   1094\u001b[39m parms.vg_clusters = \u001b[38;5;28mdict\u001b[39m((i, r) \u001b[38;5;28;01mfor\u001b[39;00m i, r \u001b[38;5;129;01min\u001b[39;00m \u001b[38;5;28menumerate\u001b[39m(parms.vg_clusters0))\n\u001b[32m   1095\u001b[39m \u001b[38;5;66;03m# identify text bboxes on page, avoiding tables, images and graphics\u001b[39;00m\n\u001b[32m-> \u001b[39m\u001b[32m1096\u001b[39m text_rects = \u001b[43mcolumn_boxes\u001b[49m\u001b[43m(\u001b[49m\n\u001b[32m   1097\u001b[39m \u001b[43m    \u001b[49m\u001b[43mparms\u001b[49m\u001b[43m.\u001b[49m\u001b[43mpage\u001b[49m\u001b[43m,\u001b[49m\n\u001b[32m   1098\u001b[39m \u001b[43m    \u001b[49m\u001b[43mpaths\u001b[49m\u001b[43m=\u001b[49m\u001b[43mparms\u001b[49m\u001b[43m.\u001b[49m\u001b[43mactual_paths\u001b[49m\u001b[43m,\u001b[49m\n\u001b[32m   1099\u001b[39m \u001b[43m    \u001b[49m\u001b[43mno_image_text\u001b[49m\u001b[43m=\u001b[49m\u001b[38;5;129;43;01mnot\u001b[39;49;00m\u001b[43m \u001b[49m\u001b[43mforce_text\u001b[49m\u001b[43m,\u001b[49m\n\u001b[32m   1100\u001b[39m \u001b[43m    \u001b[49m\u001b[43mtextpage\u001b[49m\u001b[43m=\u001b[49m\u001b[43mparms\u001b[49m\u001b[43m.\u001b[49m\u001b[43mtextpage\u001b[49m\u001b[43m,\u001b[49m\n\u001b[32m   1101\u001b[39m \u001b[43m    \u001b[49m\u001b[43mavoid\u001b[49m\u001b[43m=\u001b[49m\u001b[43mparms\u001b[49m\u001b[43m.\u001b[49m\u001b[43mtab_rects0\u001b[49m\u001b[43m \u001b[49m\u001b[43m+\u001b[49m\u001b[43m \u001b[49m\u001b[43mparms\u001b[49m\u001b[43m.\u001b[49m\u001b[43mvg_clusters0\u001b[49m\u001b[43m,\u001b[49m\n\u001b[32m   1102\u001b[39m \u001b[43m    \u001b[49m\u001b[43mfooter_margin\u001b[49m\u001b[43m=\u001b[49m\u001b[43mmargins\u001b[49m\u001b[43m[\u001b[49m\u001b[32;43m3\u001b[39;49m\u001b[43m]\u001b[49m\u001b[43m,\u001b[49m\n\u001b[32m   1103\u001b[39m \u001b[43m    \u001b[49m\u001b[43mheader_margin\u001b[49m\u001b[43m=\u001b[49m\u001b[43mmargins\u001b[49m\u001b[43m[\u001b[49m\u001b[32;43m1\u001b[39;49m\u001b[43m]\u001b[49m\u001b[43m,\u001b[49m\n\u001b[32m   1104\u001b[39m \u001b[43m    \u001b[49m\u001b[43mignore_images\u001b[49m\u001b[43m=\u001b[49m\u001b[43mIGNORE_IMAGES\u001b[49m\u001b[43m,\u001b[49m\n\u001b[32m   1105\u001b[39m \u001b[43m\u001b[49m\u001b[43m)\u001b[49m\n\u001b[32m   1107\u001b[39m \u001b[38;5;250m\u001b[39m\u001b[33;03m\"\"\"\u001b[39;00m\n\u001b[32m   1108\u001b[39m \u001b[33;03m------------------------------------------------------------------\u001b[39;00m\n\u001b[32m   1109\u001b[39m \u001b[33;03mExtract markdown text iterating over text rectangles.\u001b[39;00m\n\u001b[32m   (...)\u001b[39m\u001b[32m   1112\u001b[39m \u001b[33;03m------------------------------------------------------------------\u001b[39;00m\n\u001b[32m   1113\u001b[39m \u001b[33;03m\"\"\"\u001b[39;00m\n\u001b[32m   1114\u001b[39m \u001b[38;5;28;01mfor\u001b[39;00m text_rect \u001b[38;5;129;01min\u001b[39;00m text_rects:\n\u001b[32m   1115\u001b[39m     \u001b[38;5;66;03m# output tables above this rectangle\u001b[39;00m\n",
      "\u001b[36mFile \u001b[39m\u001b[32mc:\\Data\\Projects\\make-data-count-classifier\\.venv\\Lib\\site-packages\\pymupdf4llm\\helpers\\multi_column.py:472\u001b[39m, in \u001b[36mcolumn_boxes\u001b[39m\u001b[34m(page, footer_margin, header_margin, no_image_text, textpage, paths, avoid, ignore_images)\u001b[39m\n\u001b[32m    468\u001b[39m \u001b[38;5;66;03m# several phases of rectangle joining\u001b[39;00m\n\u001b[32m    469\u001b[39m \u001b[38;5;66;03m# TODO: disabled for now as too aggressive:\u001b[39;00m\n\u001b[32m    470\u001b[39m \u001b[38;5;66;03m# nblocks = join_rects_phase1(nblocks)\u001b[39;00m\n\u001b[32m    471\u001b[39m nblocks = join_rects_phase2(nblocks)\n\u001b[32m--> \u001b[39m\u001b[32m472\u001b[39m nblocks = \u001b[43mjoin_rects_phase3\u001b[49m\u001b[43m(\u001b[49m\u001b[43mnblocks\u001b[49m\u001b[43m,\u001b[49m\u001b[43m \u001b[49m\u001b[43mpath_rects\u001b[49m\u001b[43m,\u001b[49m\u001b[43m \u001b[49m\u001b[43mcache\u001b[49m\u001b[43m)\u001b[49m\n\u001b[32m    474\u001b[39m \u001b[38;5;66;03m# return identified text bboxes\u001b[39;00m\n\u001b[32m    475\u001b[39m \u001b[38;5;28;01mreturn\u001b[39;00m nblocks\n",
      "\u001b[36mFile \u001b[39m\u001b[32mc:\\Data\\Projects\\make-data-count-classifier\\.venv\\Lib\\site-packages\\pymupdf4llm\\helpers\\multi_column.py:271\u001b[39m, in \u001b[36mcolumn_boxes.<locals>.join_rects_phase3\u001b[39m\u001b[34m(bboxes, path_rects, cache)\u001b[39m\n\u001b[32m    268\u001b[39m     \u001b[38;5;28;01mcontinue\u001b[39;00m\n\u001b[32m    269\u001b[39m temp = prect0 | prect1\n\u001b[32m    270\u001b[39m test = \u001b[38;5;28mset\u001b[39m(\n\u001b[32m--> \u001b[39m\u001b[32m271\u001b[39m     [\u001b[38;5;28mtuple\u001b[39m(b) \u001b[38;5;28;01mfor\u001b[39;00m b \u001b[38;5;129;01min\u001b[39;00m prects + new_rects \u001b[38;5;28;01mif\u001b[39;00m b.intersects(temp)]\n\u001b[32m    272\u001b[39m )\n\u001b[32m    273\u001b[39m \u001b[38;5;28;01mif\u001b[39;00m test == \u001b[38;5;28mset\u001b[39m((\u001b[38;5;28mtuple\u001b[39m(prect0), \u001b[38;5;28mtuple\u001b[39m(prect1))):\n\u001b[32m    274\u001b[39m     prect0 |= prect1\n",
      "\u001b[31mKeyboardInterrupt\u001b[39m: "
     ]
    }
   ],
   "source": [
    "import pymupdf4llm\n",
    "import os\n",
    "import re\n",
    "import json\n",
    "\n",
    "\n",
    "# Define constants for file paths and model configurations\n",
    "BASE_INPUT_DIR = './kaggle/input/make-data-count-finding-data-references'\n",
    "BASE_OUTPUT_DIR = \"./kaggle/working\"\n",
    "\n",
    "# Define directories for articles in train and test sets\n",
    "TRAIN_DATA_DIR = os.path.join(BASE_INPUT_DIR, 'train')\n",
    "TEST_DATA_DIR = os.path.join(BASE_INPUT_DIR, 'test')\n",
    "\n",
    "#pdf_file_path = os.path.join(TRAIN_DATA_DIR, 'PDF', '10.1002_2017jc013030.pdf')\n",
    "pdf_file_path = os.path.join(TEST_DATA_DIR, 'PDF', '10.1002_ece3.5260.pdf')\n",
    "pdf_file_path = os.path.join(TRAIN_DATA_DIR, 'PDF', '10.7554_elife.29944.pdf')\n",
    "\n",
    "md_text: str = pymupdf4llm.to_markdown(pdf_file_path, ignore_images=True, ignore_graphics=True, ignore_code=True)\n",
    "print(len(md_text))\n",
    "\n",
    "abstract_match = re.search(r\"Abstract\\s*(.*?)(?=\\n\\n|\\Z)\", md_text, re.IGNORECASE | re.DOTALL)\n",
    "abstract = abstract_match.group(1).split('\\n\\n')[0] if abstract_match else \"No Abstract\"\n",
    "# abstract = extract_first_few_sentences(abstract[:400], num_sentences=3)  # Extract first few sentences for the abstract\n",
    "\n",
    "# print(abstract)\n",
    "\n",
    "idx_1 = md_text.find('###')\n",
    "idx_2 = md_text.find('Abstract')\n",
    "idx_2e = md_text.find('\\n\\n', idx_2)\n",
    "abstract = md_text[idx_2:idx_2e]\n",
    "# print(abstract)\n",
    "idx_3 = md_text.find('References')\n",
    "print(f\"{idx_1},{idx_2},{idx_3}\")\n",
    "\n",
    "# md_text = md_text[idx_1:idx_3]\n",
    "print(len(md_text))\n",
    "\n",
    "print(md_text)"
   ]
  },
  {
   "cell_type": "code",
   "execution_count": null,
   "id": "07d47e6e",
   "metadata": {},
   "outputs": [],
   "source": []
  }
 ],
 "metadata": {
  "kernelspec": {
   "display_name": ".venv",
   "language": "python",
   "name": "python3"
  },
  "language_info": {
   "codemirror_mode": {
    "name": "ipython",
    "version": 3
   },
   "file_extension": ".py",
   "mimetype": "text/x-python",
   "name": "python",
   "nbconvert_exporter": "python",
   "pygments_lexer": "ipython3",
   "version": "3.13.3"
  }
 },
 "nbformat": 4,
 "nbformat_minor": 5
}
